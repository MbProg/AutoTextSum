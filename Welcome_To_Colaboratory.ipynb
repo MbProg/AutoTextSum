{
  "nbformat": 4,
  "nbformat_minor": 0,
  "metadata": {
    "colab": {
      "name": "Welcome To Colaboratory",
      "provenance": [],
      "collapsed_sections": [],
      "toc_visible": true,
      "include_colab_link": true
    },
    "kernelspec": {
      "display_name": "Python 3",
      "name": "python3"
    }
  },
  "cells": [
    {
      "cell_type": "markdown",
      "metadata": {
        "id": "view-in-github",
        "colab_type": "text"
      },
      "source": [
        "<a href=\"https://colab.research.google.com/github/MbProg/AutoTextSum/blob/master/Welcome_To_Colaboratory.ipynb\" target=\"_parent\"><img src=\"https://colab.research.google.com/assets/colab-badge.svg\" alt=\"Open In Colab\"/></a>"
      ]
    },
    {
      "cell_type": "markdown",
      "metadata": {
        "colab_type": "text",
        "id": "5fCEDCU_qrC0"
      },
      "source": [
        "PK\u0003\u0004\u0014 \u0002 \b ü *P\u000fB¦\u001a„C  âN  \u0013   Mappe1 - Kopie.xlsxí|s”dK³oÛ¶mÛ¶íî™¶íîiÛ6¦mÛ¶m»§mMëõ9÷»ï|÷Üs×zÿ¿\u001bµªjçÎÊÌªÜ\u0011¿øE­\u001d¡ \n",
        "\f‚\u0002 \u0006 \u0001  @\bàÄ¦Uä\u0003\b \u0010\b\n",
        " €\f \u0001¤-lkãdlã¤«ângìøÎÍÚŠ \u000f\u0004ˆ\"\u0007 \bàåÿk©H”µéc@\bzJú\u00112²\u001eŽÑVR\u0016Þãß4Ž\u0006ù\u0003À\u0010~ ¯–vZ`÷ñg ¾j(Rnd\"Ç]×SæÍ}HÆ˜±¥„Y ½\býU8L\u0007ÜÐoQÂ®¢«Ÿ¦q„”¶‰ÐxPµ (ý½ïß|Ú¢|1Õ=hD$Qt\u000bD¾\t\u00152À#òTO\b—¡Ü\u0018j”Ü+Ñ\n",
        "ð¹´Ë+Ëï”\n",
        "7\u0006cÜëêW©E×5Ãvoq¦iÒ×Í^¶c©B æ×k!b'YÚÊ\u0011üdÈÖ†%û¥:8Ç9\u00042¦\u0007)4nX'#ƒL°§Gq i\u0002\u0014²,øTêPe\u0015©oNÌgwÏ\u000fñ0¶]úèœýÆ\u001dÏ\u001a\u001b¥š\u0007¯jïÒjË]pH\u0013hì­y°ViÞDQø ¾þ<9L‘¡}5$vê\u0019e\u0017\u0001¿‡\u0007¼ªói›\u001bg\u000eHd»\u00135)²>R(¥G6°ÙÞÒê·½FË×àðCÅ!bÃ\n",
        "9º-åÙ³`˜Rä 4nç\u0007p\b±–º+\u0011´ \u0011ô°ðªÕ\u0018\u0011<Îe`y0Ä\u0005æI_ÎþäI\u0018Ü·¯­ÿü\u0004\u0006Pø/vÛ¨Ê@üðu$óe–Ð_v«ë`låHO÷ÇëÿÚëÿÊ\u001f\u0012\u0019?-×Ï 3t%Ñ!|ðzj#\u0001‘[Ø.#ÑN¨‚×Cr‰ß\u0018•O\"ðô\u0018\bì/e¸>ûx<Í¯½uyd®‚c@/×ßF!XËlà±láV™­\u0006Ÿc@djŽ2Œ\u0015£¯¾¹e¥ëV˜a°üZR\u0017\u0011Õ–øFlÀ‚+\u0002}sîP\u0018Ç 8¦o6›€Yb¼‘xÈ\u001bÜ§@Ë³Øk\u0001\u0001î\u0001^Æ÷›ç¥®™EÖÖþÈË E.R \u000b™{ÜåPØ\u0004ºtz½$]h\\2 õ.s\u001eqô•È\u00108‹lMGþþ³‰ÃžH:lFbçŽg;ÜQàìÌ.Û¬ô¹sŠg¯8pWÖèY¿w\u0010^E÷\u001f­$\u001e<ñ\u001cäË»ñ\u0003\u0003 `\u0001@ ºYÑÿ‡¡¸Ú:X\u001aØÚZþáßþÓh ¿Œ\u0006ðÿ{\u001f·\u0018`€\u0011}\n",
        "ú\b˜í²gòR\b¶7™UJµÎðöµKä1 \u001f÷:¸²Tâ\u001aí‰µ©cÔÜö iX÷q­|&™Žª‡ª#\u0001\u0015Tk¯«môÚ;<B\u0004\u0001o mšŠ÷÷Ãx|yX¼LÒ‚¹AÎ(2EüFCÍ@x¯M©‰}\u001a‹¼œ\u0010õsì\u0005N8±+™÷”x‰„Ýü7Áû\u0006ð-³¼=\u0005ê³°;t\u001eÆïÔ·îæò2±ùúy|ÜU;B!\u0007Œ5\u000e_Š™e\u0014”·S\u0012&ÿ\u000eœnMf¾Æ™D>)Î®U$á&²þ”;q6\u0011ý=Ž$èŸ¢©¯¬ú,M¿Gõ\fÉS•ÍÍ‰]-…j\u0004å\u000fµ¯oŽŽ›\u0019é?{Gêë§}þQ‡DúP\u000eä¾ô\u0002û\u000bPá¿Î|éÐ¿kO¤âø\u001f^±Cý”_£\u000b=\u0004 — © ¬rMz\u00118¨>Œ} ~U\u000eØg[6ïÞþltkófbÊ­¾ÓL”¯\u0017Ü\\V®8!\u0010‰¡\u0010u.Óáw­GW{1‰ˆ\n",
        "ˆú’€\\5Â¯¦–ÎÕ†¥ì˜¥,H¤ÔØy.±f\u0013šDV3<²%¿^IãÎ#Di\u001fƒ^÷\u001d¢\u0005 Eêd2É!–”`8\u0018ËO|8mÕº@qm6,\u0019\u001c\t\u001e\n",
        "<ûw\u0005it³ÚÒ\u0002ÿ÷P»ã­–¡Núp¤AaO$&ÿ‘\u0013 éõ¾ì`Û\n",
        "abT9õz#1Í\u001bëÛMd@T[•ÜÎ8Ü;©cótç\u0011ºðÎ@¶7žS)\u0007N\tb«ˆ™C¤úÎhã¶\u0011» &|¼‚Pg¹y£.¡‘\u0019\u000f@÷2Ãb†~2¨\u001a](¯à’…ì{0×7\b©^¤îrégÔo2Š½Õ¤[oå©$ûãñåH²Îâ1™ôuN\u0002‘ŸZž€ÿ´õ®ï#\u0007¹_Û¾ûÕDù­w4Ów06Rvr0·1uüsÿÕÖmÖ\u0004\u0010¼ª\u0017|4^(Ua»\u0010\bT\u0004P’ŠÂÂ‘\u000bfTÆÖ\u0002VÑªO.ÛR|NŠïiù—ìa”˜êÍ©5ë<]èLM¦*xxÞ\u0015­\u0006Ù\u0019Ô’~ \\p ä¤\u001cJx¢xff7Ë\u0001éÿ\\ n¥eôÏÖ\u000b˜¿\u0019G\u0017¶ü) k-Þ;Ôº™AQ7\u000e‹2×4ŽkÆ£™R\u0014\u000bÇ/‹·ú\u0013°µ\u000e\u001b@Ý*Ÿ%ÚC‘0\tn ®¢\u0001\u001bô'Æ¼Š–WåŽuÀ=x¯›Ù¢Û¯!MÎÈ\n",
        "7ŒE]X&E”Q\f&ýïÇÁ?d{ÍfP:ã`(\u001b]˜Ž\u0019D«\\åŒ”Ã»Š\u0004Š2_¿Ó±£dëáá\u0004‘/¶\u0002\u001eúÙ\u001aíÖOIáo†\u0001]ÔóQ£¹í\n",
        "\u0014ºÔl–á\u001cÃ'®\u000e²ŠòY\u0019\u001bS\u0013\f¿ê½Ê4öà•\n",
        "ù•²Xþz¯\u0016ýæ]¨ž3(¤\u0019ç´f/ÄÌ_\u001b\u000fÝ=[ØÄ©¡Éqê¥ejDWÇÉËYÓ‘¾„“Íý\u0010Ó\"vvZ¢\u001e¥Ë(¨7=@Êús\u0014—!ÈÄ‘‘Y¯ôâžîU\u001b;Ã\"DÚíÓc×üö[5¥@uacÖ~\u001a%?ºš·r¨Ù¢9/Ò6~¶ª¥9\u001a…ªüÎâÛø 1íîÅ\u0010mªŽ\u0005\n",
        "\u0005\u0004\n",
        "àÑÎxF ¥µš!U\u001bÊU0/ÔC\u001f_Ðï]È ¾ÝS‰AE¬|žõÊ\u0006õî9Ž(Ý\u0017Ydûûœ\u0003\u0017jL\u001eË¶âÑ:^Ì\"Œ\u0019\u0018tSœõ\u0010©•Sž¨¤,=œ\n",
        "qî¢!ó\u0015HÌ•û¢€Î\u0013öN÷¦ïVV#e„ š€\u001a´ÕcÈÇq#ŠdyÂ­ø\\\u0003\u0003s×ühâökCÅ¨Ù\u000bôWVêheGc=û±'±vÆy<vÆ¢çêª;IÁOE>g\u0010’hùd£=‚#ª\u0002\u001a·”<L%W¨\u0015¼\u0007qð®4ße³6£„ñ–°‹Ò”Ð‹\u0003_\u0003•¥Ú²(EŸ#˜>€ÿI¥¹­™¤{¿Ž„¾\u0014žø/4q436vrü—sú³Áø]S`Lox\u001f\u0003Šè\u0013ð‡°›GÂR\u0010Œ°2;Q‹ê1°Áï5°õ”Ø'”wz\u001cãžÃC»éC¶ŒWžRl\u0013¸8š…6  \u0003Ct³šk5ÚnÁZŽÓ\n",
        "\u0014HZžXýyº®t`99©°áX\n",
        "TèÚ E’wŒ~ïÕÚhÈÒX¾£UÉ0w†Ñ—\bì™Š2\u000bë[]ð\u0006z¹Æ+š\u0003/õ .^%Íóh/|\u001e›üî)‰Ûé@IÎX=¾<\tÎ\u0011Ñ‹[_\u0003Á3×Ç,K/8\"ë‰ñ»GÈÚB'qÏX0 €Bì?\"Î?wÀÉÌØÚø?^ÿüÙçšò¶Ø¢(ÝÄ7¸b\u001e¶†ä.XâÎe+µØfJy+´§ö\u001dxWr¼íõé˜ä\u000f°â$$\"‚:±-ö\u0002\u0002…j{J|²9\u0010á\u000bÕ=\u0019i›\u000fr.²ñl@€\u000f„«?_&_?·:Ò:½÷\u0005\u0007f\u0010\u0011ão[.\u0016«—xD\f²cÌq\u001a:¹û?’`á%ƒö\u0019MxÈ¬må\n",
        "\\\n",
        "Ï6]«öeQãC\t4ðÇe7\u001e…\n",
        "ã'“POú\u0019’ÕÝ…\fR3ì\u0010õA«‰40¡=aœˆ›ê´Ê+«ER‡ðÂíAŒžjr”\fl©ó×\n",
        "\u0005xÔ”àŸe`XT• ñäÏ°ˆŽëÆA¸ú*. c\u0018ùñâÁÇ„a¤A‘­«M¼·Æ–\u001eP;Òè\f,F×úÚº^\n",
        "Ïæ@÷OÊv)ý\u0015§\u001a¶l\u001bª.\u000eîa}K™ª–Ïœ=\u001e2³ õ¶ÁU+iDÓ£>Ä:\u0013fi|Ï\n",
        "Ó\\š—*Xu<ý>´$ÔŠçÍ›”4i\u0014ëb¢¼ó›¶V¾;_ƒ\u0019ÝL\"uÍ®^º,ãv j¾ý€Üî^Ò²mq\u0003†ÂŒ*&mp1ëÎVš&Džr¡ÞÅ\u0006Ø.)¼\u0006…Ê#„§Ÿ4è3ldY!òÌŽà#`‰×\u00175,8‚LÓÃ\u0017j‰ÈËÑpìÉ A79¥—\u0016NÇŒïÊ\t³ð¸\"Ç˜Ó\u0017¼Z¼»úÎë\u0013þõt¸½^\u001díÇ—Çãår\u000e(<¤Ù\u0018´WÐy¾Íÿ|>%¾¯ÖåûèÀ¢xÖíú|>Îæ+\u0007\u0013‚¢%ùq3˜ ›Íë~sHÞíõÚ\u0002ÔE{]\u0002?\u0017*á”“/Œçg3ÄPu`DB×d€apZÑC8SE°©œ\u000bÜÁ;\\\u0001µLXus\tU‚§Ú“Qÿ\u001a]\u0011 0R¹ãI\u001d‰³Ãw\\Ñ/Z\bhcþ\u001d\u0014\u001aÞÔ^aRg\"¼E82¦ÌÍÕþ¼¥‰]:ÇÆDðd¥\u000b\u001bI|\u00028Ø0\b\u0018\t9è\u001e'\u001bI)w“W\n",
        "·ýRY×n”\u001cj3¿$À¼P2Øé dÎ`–.ª‡þŽêgïb´õãU\u001eœ©ªÖU,1:$¤ŸfÐµp\u001f\u000eóÖ sP>U¼0Nm^ïS\n",
        "Ty ÎDîÀC\u0001<x ý\u00026rg~Rþ\u00070ào´LoháÞ2§W¾\fq:%\n",
        "®Ê¼Ö\u0010Nz\"×ç\u0006ì=ŠÒ>83\u001c´Ú«QÊ@\n",
        "1p\u001dÕÞ§Ö\fÂß¸o¾û…—]Òaû—õÐ½¸X\u001cD´@\"Ó\u0013\"A¨¶H—\u0003WzSd©©TÀ¬›¥\u000bˆQŸeVÌPÎë\u000enÚMë[lV\u0006ª£õ\u001ee\u001aôýïÐÒ÷pYƒà uy™\u0015¶Ô÷ëP\u0017ïÇÔ÷u:]om\u001d\u0014ƒ\n",
        "…ÎÂ\u0006\u0019Öó?ÄÇ¹¯ ­rŽ\"Ï%ç=¥Wü†¼0\u0016 'ã\u0012\u000eÄkI\u0002ÅŽõôö‚\u0002e°JØ=\u0010ªî\u0012\f@²\\:Ë#C\u001aIqÅRì\"ÉEš´Ä7\n",
        "\tßUŸ»×—Ê\u001359IT<¾¬ÀUŸìž÷Ä%0*\u001eid0jÍƒL[]hI¡8yàš8Ó.´¶.F™\u0015Qqm8$5†MÎâÈd•ƒ\u0005´²æ6\n",
        "Î ø%-ïÎTköû33-¹4óm\u0018tØ¥ÑÅ\u0013â%,ˆk]ÕÅœ\u000eIjV$¢ÌþXÑ›)\u001ef®PÛYš3Úö]wÏT1ZÖè£»ÛÊp£ŒØ\tJñ];q2²gäÔŒŒ^ÿ^Þºv\u001f\u001b“ÐÄîWÏÄ#\u0006éöíÔ\u0006©\u001eÀ&Ã“Ôj%;m‚l\u001c}ËÊ8¼UR!ä\u0015Þò)¾O\u000eW\"P…[#˜eB\u0005\u000bˆf)³â­\\–áÌ˜RA1jŠ|p\n",
        "\f¤ŸŸ\fteÖ™6M&´:|Š.Òl}u¹!ñ6È !:f6tr€\u0010ìéL\u0001ÔkH¥/)¤\u0014â7(Ý¯†ÆÉDíÌù\u0002êï\u0011˜™¸Ã4öZ6Îá&iV»E\u0004‡L©Íþn9Ú…çb­\u0011å\u0006J\u001fñ*”Á7Ÿ2¨Ù=¸\u0003k\u001a\u001e=!íú~qS‰MÃAPœ*¹$\u0005Þº\u0002Çz\u0016à\"Ð:·}, ¨\u001b\n",
        "\u0019Ÿþ8'ŸlÇ4°\tKv‰*!,\u0002þ}Þ\u0005B‚#€‰¤È^¦\båÅ\u001e)¤£JBdyP{c\u0003á¼Dâ°Î°:Ë\u001eí!B\u0010ÎÊ²sLzvÅûÓ^òÌf(¿ÈŠSmåHÇŸ¾g û¸\u001e\u001b&`&:œÕ˜›1½\u001e\u0013\u001d]ô\u001a¨7žMÞZ]ÑRå‘£Y«\u0011Cé©­@i™¯u\u0017A oXX\u000fR™w¬M\u0004\u0002Ó'³\u0006÷v\u0010JíAžð×|*î2\u001bôiØ–\b{C4¢ö¢ÃÈÂôåý\u000e·æ‰¥‹u±\u0003‰JÀmè-Ôœ/ªLhÒjÒÔu(Î¸ã5¶¢]uó\u00124<žL\u001bŸ\u001a\u001d\u001cgq±Ð\u001f^r±*-í­/VF\t&[•\u001câ\u0018ò$§öžÞËÝù…ûlÃ`(•®ç\u001f£\n",
        "$\fÏËà\u000e0jË™^¨í\u0003ôO\u000eìêà“wïË¹×Ã\u0001 Àþ‹•:¹[\u0019ÿIG7ÔµcNÙ\u0010¼«\u0017>õ\u000eÊö\u0005K›í8i²ÍÅÉ•Kµ'Q©z1„\u0001/Ý:Làq¨~z\f»@ìÖõ|Ç+#\u0002|\u001cx1y›t3ÉôÔr\fÎ\n",
        "++A1¤ï€ä\u0011\u0011!s¤B3¼z*n`¾W(¬\u001daLðì„-íOÀ÷‘ êÔ?°—\f\u0015\u0003 ,«m^hÃyñN¢…\u001c^Œ¢\tó%\u000fRÁ±L-\u000bÒM\n",
        "ßé`¢·?r\n",
        "È¹r”\t:F\u0010ãi\u0007\u000b4|pVua\u001a•®8Éd*cG\u001b\u0017æÁöú\u000eQzéWzÆÐ·Š¶.\u0017½Ã9™Xa”k\u000b0•\"*Èì`e|>ÌG ‹T»G¹Œ:v e¦WŽHøtà\b×ç=-l3ÿÄ\u0004Îü¡óÁºç©¢Êÿ~þ’0P-H&I8\bG\n",
        "$\u001cÕ™_-ä\\ê~€’ªšPð;:‹\u0011XRi´@\bË\n",
        "ìmF\u0002äh ²E\u0019…™˜Š¡Øj?ð[ùª`ë6gEÎ5/°•j'ä3Ì/pMKö{:,Ï~aP\u0016Å!¬\u0018±\u001dEâT\u0012\u0004ítŠ¸>ÅýbYH'h\u000e°hÙöË¾Ó ¾Œšõö )¦tlj´'kra73\u000b\u0003º\u0016Ì\u0001{\u001e˜×þ]†h›~Š:•‰³C•\u0003#Y\u0002˜×¸ÅÕ5°À,æGÿÑ\u0010´’AÏóÂkÈ\u001dC\u0001Ýüñ2äc¥ÃX£5òá02Hâ 0\u0015Qté»jcs'‰Ê]\u0011¹øÌ½ ”ÔÞ™í.Ex 6âHÞt‘{ñÚN:-r$¥ô›FÎL\u0013\b›ò\u0010¸iY\u0018oìIýf}ð¤åý<çYŠ\u0015v$ÍÉ3ˆ\u0014Òõ·¶=Ç<¥\f¥³„np-òlé\f/ÒSmšNC'BŽÕ\"ÉŽŸy¶P)òF°¹VÊ~Ýtpfï\b\u00068ßlÙ‰\u0002]9Íø\u0002‡«BÖüÜ|Ó„Z²îïÍ§\u0003pƒc\fOHQi›CÚ\u001d\u001d=¶t8Ì†6š\t\u0002º\u001cEt‚p\u001eø{l¯`³Ðì{– !g¦=Ö=\u0018íR”f¯j\u0016îÈìŒ\u0018y\u000e·Jê‹\u0017—\u001aG`fÉyƒ7é\u0014ò\u0002WŠ¬\u00129ÊQ‚\u001c8KÍ/#_o3î:¨Y¾ìúà#“¯Ö,¢žš—›]%\u0017=\u0013Í;DwŠ{œ(pÞ\u000f:ƒŠÞ¡\u001aÏ€²>8©× ²ê^i\u0001¬\u0017™9B×L\n",
        "æƒgÆ& U§z[àEwn>£ÇÏ£†ÄVª¿‹e\u00176!\u0018Ú²\u0018p%ÕØ\n",
        "m»ääd–'Y/O\\Z­«±Ë\u0006|Ð`m±Q+ÒÂù?\u0013báD\u0014w^Òð\"…Ô³ð\u0002Î\u0001ßülì³-}j&\u0013\f{Wê\u0004ü˜•š­}zêwB˜Æ›³1Å\tùù+ùžËÞ–ëì>ïõÄ*yH½å³ØY÷Ç°õèÖiNUÈl‰]±R#¾Åw|W&»{›½TVg½¦×ÆŒëò£&Î\u0017ô\u0002ƒ\f›Õ{c\" €€2  ŒÿÆçÿbò\u0005ß´•‰G£½·CßáAä¹±\u0001[<›ó3éæy-=»õ¯±e3l\f êwZêv+\u001dŠJQ^PM?ösFÞJ\u0017*QR2\u0017–Ý\u0016û¼?ÜzÞ\u000e\u001f½ï›¿þ~aá¤ÿ™eõ\u001d¿i;û»'ß7º®,Vyy>—§êí«ìæêŒéb\u001f[>¹Oç—ìÏ›“é‹W[|~öŒMH;·÷gÏßŽÍ\u001e–º:ž<o\u001b\u001d\u001b>™¶ÛlÕ3·-^>­Û½>]Ÿ-Ïn\u001eÛ\u001b>Ó\\<º‰Ò…¿\u0007ÇßçÏJwg¼éû\f_ŸŸïkZ×øÞ>êÜ71É®2Ž_qG>oîN.úí=Ü)ú.\u000f?Þ›··§ðšèm{öÖçïæ/¯\"ONFÇ…ÛŸö_½?/0ÞÕ•:}ì:ê?\u0015Îu³ð¶šñ×‡79kÚ\u0019üO9›é´Ð{NnçŸÈS\u0001ËÞ\u000f¼îž_\u001a\u0012\u001a¸]%•¸;[Þ\u0012K\u001d™ß\u001dƒ¿¾\u001a¹~Zw¹oñœ³më\u0017ÊÉ»¬7÷\u001eÙ/oòðûð½£B|nÙè\u001eÁ?QØÔ\u000f}8\u0006Z\u0002`ìÕy­Ûø\b_òî(\u0003Iò1UQŒ¾÷_žÄDí®P\u0003¿íû0ïî\\¹\u0014Cƒ \\öI\u000fºÄ{O.yÜzß^|\u0018ÎoòUgu]yû·è©o³Ç<uó_™¬óšÞÝï\u001fÃ•\u001cÞÁÄ—Ö¿¿_•O\u000e\u0003ÓPA8\u001fŠÃkšîAûx:8„Œ¬‡²tøTüôÁª:\u001cr¯T,#¡8iž\u001c¾<Cfâåu~7lö²\u0017ÖV\u000b–\u001cgòûl–‰?èÐªbMÇL‰ÙÜ.é’š!§\\—{\u000e9Så¶%)T\u0003=|ú\u0019\u000e\u0005XnU\u0014ïëÊ\u0019übÀ±ŠLæùðI(†‰F:oÖê‹nÂZ7ØÝ¶½©ëýcûÃ\u001dˆ\u000fú÷‡[û0Dl\u0003u\u000f£öŠW9Ôx˜×\u0015H. \u0018µs`«ë˜q‹ýùA|=%x4Ç\u000bF3¨•òj\n",
        "`QLª1\tÅ¡p&ÅÄÒ¼\t\u0014ã*\n",
        "hQMª±¨¼\n",
        "”C5ÅK\u0014ãJŠŸÑd…é\u000b‡\u0005Ð\u001a¢Ý‰z[½Jb¸ótbà½Ùò–&\u0017T“R¼:](kïkd5µ¦\\ùüî2”:\u001e¡ºÞ¢˜nPµ’BlÂðöVbáLM‰\\\tE8uin¡†Ìª‰iÅ±,I±“\u001bÂ8\u0019Ay4¼A+*Âlìx{+_Ë.)‡FiäqZ\n",
        "Ÿ«=Ã¡QeF)\u000e°Œº´Êck£²B‹DÁÐ<Ä \u0016f`gB$V2{\u0002K\f=ñ:Œ2ž½SßJ…X?KÓ/O³N™\"\u001c\tAîb»\b³®fÓ’üùn\u0019ô‹/\u0017Ÿ¾šÚ”—!\\<Ò­ð®@…wÁ1–x8–ƒ¸Ù\"\u001fç\n",
        "Y\u0019\u000fñ÷ƒ\u0006'6\u0007§Ö±þð‹ñ´šO{\n",
        "É©HrÂ65zhP9Èk7ÎÒÌ¨Ÿ\u0014“wR×ô³y\u0013%ôrmse¬îè»Ÿw\b›\u0015eƒ:\b{7\u000eß9385\u0005r\n",
        "²\fôS\u0016IÍ\u0013\u0004©„ÞÙ\tÛ(£,D/bRØ“êIG\u0011W 0°\u001a®Þ&ÿ@‹Ý§\u0013¡æ\\ZøpsWçl§¥\u0011/\u0016þ\u0006\n",
        "1'x\u0005zåbSDrâ\u0004\u000bð~~ƒ´cÊ ô\u0002wÇñ–ˆ\u0014ˆÍÁŠ¶=0Ñ\u001f\u0005áDÙ Ü‚˜ü˜Äž,:­ëž\u000fÅn¢Q\u001còƒµÁL_|\u0019ìÂ?†ÁÇÜÙKHøº4ëAº¶\u0017|z2—\u0010VHÐ¢ÑAoN(–°vh1ºe)\u0014\u0001Á¾Ì\u0014\u0018«\u0003'X¦éÇª¢-Ž”Rõ‚¿€¤åÏ\\r\u0017œŽ‰7{Ê%c©\n",
        "‚%•é!\u0012\u0011Ñ\u0012-\u0019»£\u001fm\u0017ötÐb\u0010\u0015p¶ o\n",
        "ž×$Az6ÎD\u0013\u0005o‰™¡=oIìáÑÝ·læN^Ìe7•/\u000eÏºïRíºïƒÚâ9¶vô½\u001e$í1T\u0017ˆgßÍÁ>E®JO¢Ðà\u0019ÑÁ²ÕÖ”—¸É¯éŒžD\u000b;)¶¼HÛ«©.PÏ²m–ë^Ûæ¾£_m¤\u0014¸‡:ÚµÓ\n",
        "\u001020qTƒ‰\u0005³W;\\à¬à³°Ÿ\u000fMTRÁñSòƒ‘÷ÍwÝ\u000eÕi,~mJC³\u001f&\u001aQ[L\u000ejÝ¡ÞwXÆê€zÁëãy±£—E©zª\u000e~Ö\u000b?£=–wT\u0002’„\u0019±é{ù–°Päe¼} Q]E°,!ÃQæ“\u0019Cœì¸¼HZP øQ\u001a¸.ä\u0018{Ï¢p¦;”!ñŠã¯¾?5ùYâ}Ã-r¿^)Q[žO‰ß\u0015oÿ¹\u0002µp¾–¤K/^qX\u000b´¢láä·· Ô\u0004\"s\u000eO2º\u0013óù\u0010lB$ïz½Òü\u0014¬rê¢ºÀ\f\u0016tû%®Å9öÖehN“ûü\u0004«\n",
        "ª4?\u0014gIBŸF},yL˜_‹rÔÆõ ¯ò0‚«\u001d¢“IUÔ\u0002¡ºS\u0015!j¯1â\b2žgrÜ%‘Ô†Yh$k¹^ ck\u0014\u0004}ç\"ÌaÅ%K\u0001Ù€\u0016>«Iq>ç˜ ÷\u0012\u0013ð\u001dÂÐú\t\u0016ßTß£<ë5Éˆö\u0007²|Ÿg?\u0012t†Pû\u0013ršùi“i_–þh±\u0006¢én—ßÁ4ÃÝ‘Ÿ‰\u00062÷¨\u0004CâwÎ%\u001aª=4FF„c%É\u0003ƒ‹T\u0011¸>f³»\u001fe¡nu\u0010š!àŸR¢\u001aßŽÇzÆ? –û\u0004/Ð=<i²S¤%í@î?Ð0@’A?ÂDÞ[$!^”@ž[Ç\u0006fTW¨\u00127ê'€÷\u0011Þª\u0001‘g¯\tæTñªƒ›Êw8ê¾uvJÞ¥Šº©\u0007†ÑÒ\faŽ|¨Â¨\u0003\"÷9„Ô7b*KÝ€fdæ\u001b\u001b(óQê Ê%\u0011ù.‰®è¡k\u0011k]hW­˜Ù@¿›´g'fÖ\n",
        "f‰\n",
        "à#\u0012ˆ…÷–¬‚\u0005!\u0003'¡¤¯Ð9\t§±¬#o‘^…çaÐ¤[kàc)Cm®í\u0013¥J\u001cF8^³Dš¯\u0011¨…Ë’7\u0002@l7À\u0010µ¸ò’Õa¨wÅa$Ž&\u000b·\u0003¡C‰Ð+aî(r§ús \u0015îjêT8O»ÀKK\u000bA/ƒ8\u001cww‘Á²˜—H\u0012ËbYÎ‰$\u0014¥³Ì\u0017´’Ñ²˜—J²§7Ì\u0015hË¶Í\u00174’\tVŽV S¬Ô$ÐÂVà\u0016;\u0013·P‹K×Øš1§*RÚ\\’}\n",
        "5ó#ŽÏ\u000f <Sr\u0013ZN6]f\n",
        "æè{d#ø=¤3ØÔyÉb!„q„a°“Dî³Ì\u0015Ô\u0012Û÷\u0006eÈAìsÈ²š‹‘ÄK>Od2DÏ\u000b%$‹\u0010É\t¥°\u0007Úgª¥;I“ì‘èÜGuh%ô@M\u0002GG\u0002LÌ\u0005àTË±ç\u0004‘…¾¤í‘™Õq\u001aù£\fOòÂ\u0013#>ƒèJ\"Îþ@Ûk²nÄþ¦íË\u0013Z\u001781ù€‰\u0013ß%y\u0001#v\u001dÖÙ‘®œÅ <„{×å®J\u000e\u0016BÂ Á|Ý‡BÉ\u0003iïPÄ‡x=\u0002™FH€\u000fs\u001bÙÉ#Z&_Á=ÅWýF²\u0013Gòâ/¸ã\u0006\f4Ù!ðBJ±Ô*0z(Ö£:j<\b \u0010\u0004¤Ÿ,ƒa?\u0011/ùª½ÔêËà\n",
        "T\u0015¨É\f˜'€áwîfûN~Ç\n",
        "\u0001;t“©~˜xL \u0015èF\n",
        "7 \u0013À ®x\u000e Z*„\u0014t\u0003*Ô‹x\u0003:{^F\\dÞG\f-Õ/\u001dðÍ,*sïË-¶pm†r…Ê\u001cêh·Dð»³’ƒ\n",
        "?+‡<\u0003ïzù¬JJ$¨»\u001aœÏN\u0010ñ±\u001a Àp9Cp‘øÉˆ†]ØÑ\fŒRóµÖæ©÷Q\u001a\u0006ï\u0016Áí\u0006“ŒR\u000b¼LÙl§Sù+\u000bq÷G\u0016­\u000f[ØÝpy:2¼Èû8—‡\u0005H§\u0003ôdÇÜ'q™¡rÛá¿îµ\"ØÚ‘Ã?­êjNR–öÊV)\u001e(%r>˜áç#2ø‹\u0019 à§ËÖRÊÓfŸÿ\u0018\u0006M\u0007Â7#ák]æaf\u001e„ÈãÒy\n",
        "gÖºH€ rÀÆ’ÌË$èØ\u001a†È3ÇÆ‚fö·k6]d@\u0010j*Æ¨ž!a´\u001e‘­Ó£ÃÍN€ñÏá€.† ØG)Z\u000fZ’@ÀÑ¨\u0012Ì\u000bÁ\bñ7ìŠ€ö^I‘q‰ô”\u0014IEÉÞ!±7Ÿ˜\u0018iŸÁBl\u000eù9\u0013ÖÒQ·à K€Îô;… )Œð®G\u0018ˆSíK¹‘pjß#\u000fê}‘¿ÚÊ²éˆaµHYÜä±†3\u0005¤q¡I\u000b‹°~8åId›Ha\u001a’ß6\u0011Gjµ,‘pÐˆ¤)Ü{[ûòq˜íØä e³÷`eêsäßŸ{…6\u000e¿ìŸ4)h'ëb*JÑ$¬\u001a\u0018ŽÕžåD\u001bîR\u0001Ñ\u001d‡”IL–c\\Ân6©\f\u0002Ù½+M#’\u001bn\u0014Ø¿¦·Ô4Ì†jí.ª€§uà\u000eB,©\u001c(íôØødƒiH,Ô\u0011¹WE”C\u000bT¸W9lÏˆ¶ê¨\u00191Ù!Ø\u00151’G±\"\u0006\u001b-KDTz8äîÉ\u0012\n",
        "Ot‘€“'ÓB`êþQžãž%‹|\u0018XUQ¾ß»\u0002…†—\u0016[À.\u0016ýl¥\u001eƒÏ]µ®\u000eƒŸöÆ©T‚\u001b†ˆÆ²E,¾F:’XFeuÌ ÓcðT-\u000b¶-ñú&Ív£ûú\u000e¢ˆ*:\u0017šrXŸ[WLƒ))¤¨·þ~85xtùõ\\QöYK‹\n",
        "À\u0006Ë\u0002\u00136P;˜Š‹\u0010\u001b¼ð3æœ`Ëæ€hšÆ\u0017>×B\u001em\u001f­Uï¢\u0014†'`ól§—JøŽWú\u0017‘¨ovq\u001bŒ°å\u001ekŽýï¢.\f)ìD!qã¤¸Œ\u0015¾ÕV~\u000fØÇØÇÀ§ÑvN\n",
        "8è\u001a\bŽk}aÇþ@“Ý}³Õ\u0002þ\u0013\u000eª7\"Q sÙÔ\u001dÕ\u0015)/á0\u0006Ö>R*•³^ôfÇÎ\u0015seX£[\u001døÊ¸\u0007\u0016ú*cUˆSjÜ³58XJ\\×‘SË9„àô? †L–Å¼L’Y6Ýrî\u000bWÒò%©eÛ\u0016\u000b¸e¿®µÕ\b\u001b¾\u0018Wà»úüõ`ïù‘Á\u0016>Ì\u0016G\u001f\u000f\n",
        "{Fÿ¥mÚVìYžLB²{fbÌ˜K.«\u0005]°¥‚\u0010Bdu\u001cãVç/Ø”/¼\f\u0015\t&·r‘À0uýSÝ²cVPÉ¿@ë\u000b;‰‘FIØ^8õqŠƒÈhÃD2\u0007(\u000fƒ¿\u0010L*Áæ«!²ÐJ\u001c¹ß°DÂ ØÍ0\u0010.”8\n",
        "bj‚X…‡\u0003è%¾ƒ\u001fÌ$ãÒ,™@B˜\u0002•\f(@(Sò\u0001Ý”gÆ\u0007å¥š˜UØò3é\n",
        "j\u0015¤Ú\u000bÅ¶b$\u0010~9\"gÍÔNb:\u0019Û”Á_~ú()ä6\u0010“éR,uç'‰»\"\u0006#‡‘…`ª\u001fz‘„»Dh\u0002óC˜¯ø˜0\fà‹V¬éù!¥\u0012žÁ¦ý£û!!`LA\u001d:\fP12‚Ù\u0011è\u0018=|í\u0014…œ\u001cìÁ\u0017ÀA\u001a}\u0001\u001cÞŸ ç\u001e…Ôä=Î…Žp$×“Ä`\tæ{‹ \u0001L\u001c‹\u001bÑß‰ F\u0014rÃs¬ÊYæ\u0017E;@mOPÀ¡;äHââ{«@\u0018ÖwMìX\u0010Ò,’€ù€\u001eÚ¶BªäÙŒ\n",
        "\u0004³-±€Œ€¶¯\u0012§\u000e[gçúm¤\u001cŒ‘#8ƒ,\u0010;tæµ\\P(½Ã\u0002Á0F\n",
        "Õ>\u00171@/Ò\\(’\u0010Ò¨N\u001ccL#4A\u001dÖÁp°\\0\u0012S,…L\u0004=ž¤\u001aë€»\u001d×þ+$ƒœ„B\u000eõT\u001f‡ûu\u0004\f3Ì{ ÎV*ÁÄ™[» Ô2\u001aæ¡µ-TG^ÝÝ³µ\u0010,Öæ~á#5…\u0012øÈèï\u0005Ze\u0017©('8r;zé¨“Cyæð…e\\ù¸ƒ\u0010{\u001c\u001b—©\u0002œ‘j¯$þ\u0018\u001bÁbJŠr+ß®\fAnêa£‚0\u0005}ë%Í:(\u001cIõõ_\u0005 ì¡jz3\u0010ÕŒ\u0005ôÒ\t×Ÿù|ÃáW\u0006™Ñ”&Éü‚+ÎOx\u001aõ,N=[²4â\u0003ux‡®å\u0013s¤ÚÛ’\\±(\u0016ó\n",
        "IdÙt‹9™„£ô†™‚B²M³¹/ea=‰Nè;LÂœï\u001f·œËqJDƒNU\u0003\u0010\u0018§¶Q×/o\u0001¹¯A…_óL3\u0016ý•.`\u0003øú\u0007þI\u0006¼òø\\\u001bH\u0010\f[\u0014H\u001aŠïAb¨ò\u0012Ç\u001a².\u0016`ÆI”…süž†<Ðøòê’$\u0006¤ÎÎÂ_\u001f+”l\u0016!RSRw\u0005q¨XJ\u0007¹ò\u0016OV¸=5\u00123@[c\fx¢ö’—µ0?Ge0%Ž<XJÛ\u0018cŠ×Ö\u0014s \u001e—@æÍÓf\tv\u001e°\tÃ\u0018¥E$n\u0005Õ'i&ˆ<@\u000bŒËüÍ¬ô«+U3Ù4\u0018È6UMF,\u001dG³Å\"\u001cÀÁÈÞðRÈ’Dî‰Fý²§l\u000fƒ¡\n",
        "2ûü\u000b@w°J9Ä†JÂ$˜ ZTŒ\u001b+°^\\‚\u0015Å\tZ\u0010¬\n",
        "ÒÚˆ[x\u0012¡ø³~p**\u0012ÉLy\u0012Ÿh´òø+¢Ž\b\u0014¹~a¨Õ\u0018;bd…@…î-uì¿Ð³\u0003§ò\u000b=‰b¿KrÒ\u0010ÀÆ\u0003\u000b‹0\u0011˜†ßÂˆÃ!s‘¬ÄºJl8C«\u0011P¯Äàg\u0006¾\u0014B\u0010„ ¸ŽÐ5ˆáÎÙ\u001d~Óô¢áæx¸\u0018ñÎâ$•„>þBÐGqÀq¡\u000fô8eŽ‡\u0001&ç\u000ftjÅ\u001f«\n",
        "è{SÌ_¨.fŽù…¡t\u0006ÛBc„u\u0018Fèi?R\u0010“­ …ÖwYó\n",
        "­ÄUbN…œÍƒð¿\u001f8\u0012\u0001[ÎïSSå?2ì\u0010l—ájÂM\u0005:\bíÓ°åH\u001cÓÓ\fUºôj\u0019ƒŽcØp‹ÀâñM¦çK\bÂ-ÆlïOK‹\u001bÜÙ°6¯S²\t\u0010óÎ\u0005\t‹ž\u0019x\u001cµÉ)bô\"ëŸZtÌå ñ\u0005¦ˆ\u0012ƒåËGIÇ<ZŒ \u001e5ÚíŒÇ2(œ\u000b\u0007\u001cp„ÜíIõÚ\u0007þÜ\u0007\u0011\u001f<¸y»)$Ìd\u0011\u0005\u0010•®}ÿ\u00027,Zk\u0017„‰¾§$ù\u0019Ýõ\\wU¥\u0004°t–…‚8²(Vó<É/çi>§“€–Þ°P€-«e>WI¶i>§• —ð\u0018þ\u0018òn5x­ÔC•Ô\"·\u001a¥ NJÍ\u0003šqõ‹¬_êˆ¨i\u001aeõ…T]^.¤’¨å‘I±®¸\u0016ÏA\u0016ƒ}÷OôÌ\fÔ‡‡ÜçøRÿs‰\n",
        "ÊÁÌ\u0003O—¥¿ÀsAp\u0006…‡áŠ£²$ƒøË[s„Y?E3T­ñA¤\u000b_»¥»3z´–\u0004Mðt²¤ä]§_Ü@Ÿ\fc7,6]æé¸iE\n",
        "6Z€¾è´ˆG3AKf$Ì:›—¥gq#¨Å‰\u000fSÕâL\u001c(\u0010T´ÏBDçIM\u0002±ê1\n",
        "?Ÿ ˜6jùbŸÚ°\u0002„+\u0001\u00021ÝôÃ\u0017ˆƒ8Ü\u001f$ c\u0016ˆ1¨À\b¦WÆ•\u000bðFÛöÏïNã€ð(‹h0@¢I\bf& \u0013ucŒ~B'\u0002Ø‚è,n¨ÁøâËZõª#§„ö×3|ü;5ôæ¬\u0005Í–£¡\u0001‰˜)w8‹\u0003ª\u001eð£\u0010²Iõâ«\n",
        "Ú–§!Rü\n",
        "qyD³±í™XÚÍÙD\u0010ä\u0010\u0005\u0010Å­°¿8¡(Îø\"§{´M\u0015íÆ`v\u0007\u0010i€ð[iò\u000eqXÍàÚ3qv\u0010\u000e„æíXB$'–æ@¾\u0018\f\u0010!øP\b£ÙÛµ&œ»\u0001\u000e´ýW—MEIVq$&\bv,ÈŠ‡ä×‰®úuäãðºÄ™1\u0006áqù+ð+5Õ„éB/ÙÌÞ/\u001f›\u00049|%d90ö;ÙÒeuï°Ò»\u00104[LÆû&}„ZêÒ\u0005HŒxŠ¢˜ÂüÅˆ“n\u0006åY†3»\u0003z“O\fab·?ÌÓÄ ßß¬·\u001c«Ü+’ ¡Ÿ\u001c\u0005“8m\u0006Iºæ‹\fúSxÊÔr\u0010?ÛäM^ôÇ‡ç‘Ôô™h5¿\u000b\u00055…¶¶î5™1¹;\u0005¡†\f6X ¼5Ðd÷`hÈÄ’æ®`H…¬VìÍ¥m K’3û¨\u0002ïÌAJL\u000bÁ¥LA\u001cltWK\u0002\u0013ÅyŒñ¬Æ\n",
        "D/J$\fE\u000fÔË—9‰}AÜ\u0017\u0001 ŠSiQt˜ÏFþbyfsñ\u0012\u0003RI_ƒ4*YN’¿ŽOO£¿Æh%páŠïƒ‘¹;+\tqšìð\u000fñéÝø¡a\u0011™<¶\u0010öÅáËá\u001cé#Ýq\u0013¸S¤çW¥‹\u0010\u000e:Ù+KÑ\u0012´ÈD´l?¤JxvßF\u0015L‹T8L\u001b´di\b±J·}\u0007\u001e:)¶½¹,éí\u0016‰ö‰À^$èûÎ7À`t.\u000eøJÔz9\u0002pjÍ\u001ea_\\š\u0019xºP/ò3|ç\u000fŠ¨l®þE\u0011\u0017ÓÒö\u001a‹0°k?ØñöÑÌP\u0019¦ªiÜÁ^\u001dÑ{G\n",
        "ž·è÷\n",
        ":§ëœ\"¾)\u0007\u001côìÔ€\u001dÐ(]º\u001b rÿB\u001d«7Îk×K+µPÚ:èëkW\u0002™©•\t\u000bZ\n",
        "]¤Yî!\u001d¬Ü[sF-­íº°L$¼\u001a?L.[„#\n",
        "X\fŠ‹\u0002*\n",
        "ÊœûEšê\u0017jƒ<¾Ài\\\u0001ph,L\u000b\t;áIL©5Ãã_\u001a1éMxˆàj¦UoGï{'\\ƒŽÒˆq>\\\u0015![ëkž„/£â\u000f¥EŒÆÜ#×Ã:Ó<³Ì §SlnLèmÄÉA>\u0006\u0019W¿âk@\u0006\u001da\u000f­Ss¤2HÂºm\u0004¿\u001d!#µÎ­§|ÎOYG\f^€lÂvö…À\u000bœcF\f'<Úej»xÊÅ\u0001R€rVÙç§\u0006á\n",
        "3¦}¯\u0007[š\u0013:¡ý@\u001c¾hæ\u000bï¢%TGò\u0011–“FÚ’–BôæCpÞüQgr:fmxû.YÔò„Q)£\u0014BO½2Q\tèÙu\u0013\u0016ê\b¬pÕM£WÏõ^Ê#‰j°\u0004v„»à¼\u0011½òØîýf¡;N²\u0004ìíÿo‘p/œ-Z@JÎ\u0006½\u0016{\u000f¨šÒ~\u001aGC|ÀR\\îªö±lím)¨Ý\u0019B†à—vva‰cØbÿáœÓÒ ä„û8äþd‹)Ú\u001cç_œP%ÁD„(-\u0010zò\u000b\tÿtÌ{$\u000b^Â\u0018Ãæ:f9\u0003Ç¶?ÉbÜð,œZ6Ä[¯iæì”Ž(UƒÀDã5‡ó\n",
        "¬Ið^\u0019‡Dás^\u0007<×­õ\u0005^“?†M¿ŠÇD#h‹¬VAÕ‚:\"&Î\\GãÁWðKÙÙÁô¯à·ÃÝ˜\f,$“þ?‚_æ\u0005¿\u0012ia„\u0004wÐ\u0004¿·+8¯²tK¸¦Ùê&H×\u0012Jž½\u0004v¿ üL¾ç¼1!ŸeÒ\u0006·€„YŽFù–+…\u0003æL€ôÑ´2ìN³ŽrÒžeB:bx“ïH¥²\u0002\u000b¤A\u0006ú!và\u001e\u0017\u0014\u0011R\u0005~OR–:1â\u001bëP\b\u0003Þí³\u0013a\u001f`B†\bÌw\u000b\u000b¼Ô\u0004$†¡å9IïnMË¤\n",
        "BC$žÇŠùqš\u0016Q£šéÒ\u0005Ry‹{‡×Ä\u0014t@q½Ö÷-v¬\\”‘\u0003¬”\t„reãq1/Æ½‘b\b‡–qÏ…\u0018¬·E%¸e`hºT\u0014ÒþÖBÑ¦Â6œ±?T%8T$þ`1ÏÓ´¹|\u0012Õ¸—2—²oð&ô\u001bÜì\u001b\u00145œ¢yÔ¶ð!ê£ôŒ\u0016jH0_\u0013ÐÝD³\u001bh‰®ôÚÌÈ¥Pß¤H(öÅ\u001fx7#\u0011é ¥”,ïB½\u000f$ë7x7Ú¾ua\bâ×ÝÉá?;Æì Ýùˆ¢ˆè?²\u001a,–^>ƒ\t-»ê…!´Ž÷`8Ó¿ÝN1@Ý@;1…Ê/˜¦ƒ\u0017Ä‰X6‡\u0005ð\u000b„4º÷‹\u0017œí>\u000eoYA\u001fö¡¨Ú·Ê\bE\u001c \u001d%/=;+ñ!oô«5XÐ¥Ê¨}C\u001e¡µÒM \u0013!â•Pû¿a®z)\u0015ÅWôúE\u001f#%H’þ<þ\u0017Æ¡&þwŒÓ\u000b ¯\t´C»¦\u0018†É\fž\u0017Â\u001ehÀmîõ—\u001cÀz4dßD3Ödâ—£õÝÆ0\u0006m2eÜ 9t<]\u000e½Ù\"óY/°ålùù—\u0003\tSï’\u0007Ê\n",
        "E’V<µìGÌ`K„Š\u001c“ã©¦\u0001‚•\tó¶Dx,\u0019KŒžJ'y,å÷«°\u001aDô\u0011ÕžB\u0010~.”\u000f ê\u0015Y[bœÃù;Ë^%\u001bÄ½LÈh½È˜õ(\u0015ˆg?°“¾(PÎ×U~‡_,<‚çJ!IdžôLôüF·å|\u001e+H'©\n",
        "& \u001bGA¬÷4òßuÛa±ù+3Ù}‰h\u000eïžˆ#\u0018i ÝÃâüÆKù”ÌÒ¸èÃPõ:¬~aö¡™vÝÄššqb\u0011í7Ä:œÓö\u0018ÕZkê­d@ˆñ¥4#õ×ýBMÇž®àv¤¾–2“=XÑÞ«ˆ'ê\u0019VKƒÆZ¹ì\u0005‚ºÂ\u0003ÃÁòÿ\u001cq°3IE\u00061­\u0005\u001clª«Á0e|Í—/\u0011œ ¾ûvi\u00077i\u0014õ.YN:AZ\tè{OÖ7¯ºB%\u0017ClåÜ\u001cQ!\u0001ü\n",
        "¿\u0001–î$¤&Ù\u001cv‘ð\n",
        "@F\u001fü·Œ[öFB7fÒŸ\\-AlSw¥\u0014?\thzæÜb\t‰,È7‘\u001ch'%§Q°\f6¹>z5¦o<-·U„(¼ ‚ ,\u0010Ñ\u0007RKÓ„(ñW‰ŒÔ7#%-\u0016yG7! I‘#ôhÈ,÷@4„Ix+\u0003]É3°žf<\u0017=hñ!n9û÷\flDë\u001f}¤sm€×q’-vz<Ãm~wlëmœ÷ñØãÐÈ@\u0012ãF¨»±n‘\u0014<$þ£\u000bZ¤ˆ]s\\Ù\u0005RqA•\u0005E\n",
        "\u0004\u001bÓPÐFlüÅ\u0001j’ÏÚZà '\u0002\n",
        "ÞZØ¯hA¶ò­\u0011H—’•ñvÍ\n",
        "xç’y\u000fÒ3mì<z5Ô\u0015„È˜’Â\u0007ÖKè€\u0002XyKzŠX<bG'\u0004À\tÔMRL\"Z\u0002zÔàG¹\f®z\t¬.Y+Tq“\u0019­l0¾ð\u001d¦³Ø<;‡ÑØCíj’CÜ\u0007b\\d¥}¥·n)Ü\u0005a&\n",
        "\u0015,ðÜª 3±B9åb3mÃÈØ<0GPFþ8\"2•\u0002 \u0004~#ÈÂ¸=\fA²í~zxQF \" °’]hpaŒ•%ì¬\b\u0013Á‰Ý\u0012ÙD¾Á\u001bÇ²Ã-Áö[%ÆMì¾z;^[N2\u0014–©\n",
        "bÀ\t@\u0017áX ø©\u0015\f\u000b7Œˆå„DÉ2\u000f_Q\u0001îÕMÑ\u0011#\"5ð1é{Zé×$‰[(Mñ»à\\fxÈ£L\fè¡&æ @6$\bîÊK¿AÛöãß\b\u0013\u000fRW–PjemN)$êâìF\f\n",
        "´•\u0007ØÒÒe\u0010\u0005„/íëŽ\u0018g©ëi©sE\u001b~³íF­ÿîš7¼KÅHö{éi0qÑC>xîñÈ¬€Líó£\u0001f\u00066”[µ\t½½Ü\bºÜUöÚµÀGÞN'ëz‰Ê§‰ä\u0014\u0005¨lºíÌIJ¦Eù•Ú²Ì¢\u001f\u0005B”ÑT\u0006\b I2p!ô¤ÀªYL\u001f-C~¤ÐgHd¤,2ÂÔê›Ä\u0010\u001a+ôAç\u0004O\n",
        "CbŽ‹ÌÁÌÀNŒÉ(Ð†äà’û\u0010K2,2‘Ì¹ö²\u0019Nš\u0011)GCÀ`\u0019Ï¦ÒË\bXg\fD\u0002KCÃÒ\bÀw\u0007oƒ‹LÊÌ ÎËØˆÌ¦ÏÂ V\u001båD›P2úýELK°hQÁp\u0018d=9¬ð@ï QÍ\u0001 v\u0016ÂË%×ÃŒE³˜ú@êg¨1Å1cm«±\u0010ý(¥a=(\bVòn¡Nãé˜²Ä\u0006Ó$#ÊSªÀšƒ_â*\\ˆ‰\u0005^Ëeòúf²Ï­{5\b\u0006LDV´6„X‚\u0011\u0012…\u0017†6²ÿ·Õ*7\u001b÷Žó¦ôÏ÷BPi³lEóÅñF¤÷\u0004p!_“ý6\u001e+Q#Ù'Ê§ÔØu\u0007Â\u0014YÙ!Õž\u001c}¨Û¤‹Ó¢%ÿR?ÂÕÒÅþr£pÌœO#\u000bÉ“T\u0002›™\u0016\u001b½|¿wÒBC¡\u001aÁá\u0017\u001cdÅ„xÈRF÷è°XÉQ‘\u001eŒlÃ=Tžaó\u000b­³ãT·øD\u001dYÏhÎvRR‘á\u0007O™\u001e\t):\u00033÷hû×‚ƒ·ïwœCÃññŽLƒäœcYÌN*ü£Š™¹ûžÑu¦žK¼]ßŸ[Âá«\tÖ{Ûdãs÷oí<¦Žë—³n’¢ˆ\u000f\u0014\u001f=on\u001cëW¿m^]ÒówZmùXµe\u001c\u001fÇ$„\\\\U×°\u000bó\u0005ÇÉo±ÇdËï\u001eÃ\\3ocüð\u0004ŸŸ£î7]'¾\u0007ô¬¤\u0013ÃOÙ-ÿb†0]Ìèùôã×“w\u0010\u001fM0Ù\f13à×\u000fOb[ýÃMuøÚqÈ\u0012e×Ò\u0003«å±e ]\u001f üÝ¥ä›';êÓ†ý\u001b})‹†÷¤žm¼bÙ½Í»†÷Œžž|bW½ê·†NÏúêÏ˜\u0007©\u0015×Ü•×ýCµhÏ«ªÏ…{\u001aÐoáTo÷v\u0015 Þ(¨ÞÒ\u001cKþÝöáTÑ\u000fñPlÆ¶ñÒ¤)7èA»i •‡ß[áš’¼ê¥ü·µÎÂ\u001b{®Èý¼\u0006µÀj¦òqÅä\u001acY§\tŽ\u0013­Õ\u0005&«6\u001c¢i-Í¢Í( .\"Ô³>7’Õ|¦n\\ŸIï ~-ËJzí§\u0001ýÁ…dÁº\u0004¶Ýf³ß<ÙØµ›°|\u001d4ª\u0001í9ß\u0016¥‹·ìµÃ½tí5òÕ.i‹ÊÎ]òÚ‘^°~›h¶ñ«FÉÍ\u0010[ÿzÏùì”}\t¶=\u0016@ÉJL{}ÁªT\u0001Úe\f®üõÅšOô¤¾\u0016ZÂ‘¡\\\u0002ÚŽ\u000e \u001cÔºÖ¶£pí¨\f÷\u0006Ä×\n",
        "(M÷ê'9•mDâ\u0001Ò\twòO©Ì\tÇ·ôK)Þ¡ÜÔ€î€\u0001e}þzÛX\u0018bOj°»®Câ‘Ç¶ô\u001bÎ“b(4Ãö”\u0003é*BÎ ñÄ\u0005ùN\u001dÕØ3Ì·\u0013Àþµ˜\u000bx\u0007\n",
        "–¥Ÿ¼}\u000f¹¹\u0001íµ1ìóL\u0005h¶¥Hk¾=Dú5¤J%¸\u001b\u0004ê=®¥Ÿ©”àv-š›\bÊ\u001f\n",
        "r¾?\u001b¾È÷?\u001buž\u0015ží_N.>†MÜ>?öO\u001eö\u000fÜï 2ØßææOF_çá=}™^=š½Æ?,ØÊ\n",
        "\u000b–Jš&ø92¼×/]ÖSx£øÙŸ¶Ù¯V L³‡/\\Ž?€\u0013}ó§ØÛ··å¶.·Ù®îŠ}lë®|¬¶³ÙªÛ_7ç\u001f\u001fîNÖ\u001f½ž¼?\u001b€Í×ä·ù³»žºLñ|nŽ\u001fß›Ïßì_þ¸Mí\u001fnMÉdŒY1\u0003\u0004 (øêF\u0004€ 4²5Tp°µs¤7´u0þWbïÿæ<}‰gü7é~\u0006Œ +ÐOáÑÆoñ—ÜN¸2«IÀ½á{ß$¶¬{Éh%Ö»Ù/Ö¸ÒÜ4§Ü³³\u001c%ÚxN‰~\u0003©˜£…ÂA„÷„*QÕkç¤xâN+\u001cð°Ç£\u0017úrù\tŸ?’¡¢\"\u0017\u0006‘k«éu\u0002¡ƒÆÛË¨@7<u\u0019`p×‚On\u0012pÈ 4\u0017.n„È·÷£¢ã{‚s\u0010\u001aù³ºÑµ\u001e·€\n",
        "©Ê‹Ð*…ãiz­å\u0001Jøå\u0002À\u000eqË€£|ºñj\\|ð˜%B\u0017«}¨\u0004ÉYoH7¡˜Öºâÿ<\n",
        "é×·Ã`c\u0014ò\u000eßf‹™–]ÔHûA\n",
        "H!]¨×\u0007ôT8©–\u001cÐ\u0016Áv˜e9i\u001cNßðcØŸ»\u001b2Á\u0016udñdÍÛú¤*«‚\tÏ(\u0019+\u00022*¤\u0018YÌÄŠÅ[ÞÞc9M¨ÀÄÏ‘.Vñ×À\u0014´ÓØÙõ\u0007¡n~:{\u0014eX‚¾œ˜\u0015~¾ûŽsU‘ú³%ü‚õ³O\u0018d)²Rü<'ñ<@'‹o\u0005äûë7ãíTO\föoÓ³_ºçøÕDø;§\fõ­\f…ÍôÍmþÐN§%Ýˆ\f\u0001”Ý×>oð´×oùaëE\u00034\u0006¿&{vzPô/\u0007Vd{ø\u0005\u000b\u001b¶»”µPïlª„ð|Lyäx„ál»Ó×^5\u001fú\u001b-\n",
        "\u0011;¬\u0002Õ\u001b]»š®jŸmºx}\u0010·\u0018Ð.ZKÚ›Â\u0007¯,\u0010l‡‹åCêJÆï•t´§+gàj[\"÷/Ê¯à\u000f\u000b-Âw\u000bÛU+ÛoóÏ2\fœt_]}Z\u001eTíñèTYÙ\u001añmØª½÷Ñ\u0010†…O\u001ej\u0019f¿»©/‹t¬yA|~\u0006Yµ2Ä\u0011PdŽ¥ H0%\u0015(ÚéšKrŽÆ²HÆ‘Œžóm³ÇÅ¡H^mØ>Ú®\u001f\u001d“I*ÅÛ\u001cÃfSÑR’cÆ“QÆ“¤U¾¶._˜’ˆÎåz°.\u0007…“HJb\u0019”ÿÕmç±Ý\u0005y'¥4$$:×{ö~ûÇ'~»~,½Züç*”ûŽÔñ\u001e\u0001WÚÎý<qÇp…‡\bµ¡kà£8£o‚s\u0004æx$\u000f6§\u0016é,QZA‘BbDÄq³Òðå†*S|\u000f9\u0004Å¼ÑóxŽÉ™G\u000b¿\u000bäžRi0ùFÊ ~\u001eK»X(2\u001b§:\u0010ón\u001b—M¸¦’\n",
        "&šHy\u000bœ\u000b9VòôÌSW%\u0015°ŒJkk¡a¡a\u0015¡(ÛÈÕ¼\u0007\u001bñ—\u0015hÚ\u0004/|{¹ê»ÿÇËïš\tŒ9\u0001\u000e \u0010‹\u000f @þ\u001f—ßÎÁÜÆÉØAÙØÉéì®¿·\u0019é\fÌmÎÕ<œP\u00161»\t\u0005€hÇ\u0014\u0015zÕ\u0013›üæbÁ%\u0001Æû½&L\\771]\\ %6œë<\u0012pÓ~rO\u0010[ùâ\u0011£ÎR‘—Ò.Øqä\u0018È®)ü2W€\u000b\f‡\b2\u0018\u0005,/ä\u0005 'ÜÅ<x—ú=)SGVpt\u001fóˆ3=u¾Á½íÚýêõôê\u0015³Ê¤\u0012Œ3\u0012CC\u0001ÎÈðª O\u001f\n",
        "ZÂ` H\u0019éR@\b\t\t‘\u000fòûT\n",
        ";2\u0018OT\u001b¯ÎyÑ¨ Wÿ×]<¦¨ù/9\u0016W\u0005,,\u0010C.\u0005¼•Â¾¨¸·Å¥Ïß´•\u001eÅ|ðþÇ‚n'þg.A.)ôÏ\u0014eã<\f\u001dï—kÍÌ\u0001ÍÕOE¸‰pÍÞ'hÁ=Ì\u0010—N,\u001cœpl[ˆX¹Ð~*Óa0·M»gK]Ñ¶\u0016\u001d²’áoø\u00049â\u0005äTÎi\u0010µ[¾ÚìÜH‹F\\¹\\u\n",
        "\ba¡âªbxÔ¡\u0001\u0016#@]0<ˆuÚøÔ°Ñ°L|Ð¨½Ìx\u0005\u00113$,°Y<,€\n",
        "­\"’Ê•\u001d¡8\n",
        "Ûãs‚ÝQ_ ÒèÁCAqË¤vÏNnH\u001e—\u0013\u0001Û¦ °Ä§1t\u0005U“N‚¨9¨˜p2\f…È’DND55\u001e!Åc`ô]ÅÔ2³§|‘”i–d`‚íÈÎ›ÏÁ.\u001cJ{fÁAR¨aÂPñ0r\u0012æ\u0002þ™¶\n",
        "@ƒuÕ\u001bˆšÃÇ\u0002ï\u001c\u0011%ò<d\u0007$]ø\u0005˜.C”ÿg\u0014„ˆÉ~f\u0005QDQ<\u0007Eø½~\b,¤Ö\u001c,…>•V˜µˆŠ1\u0011\u0001~Ü~f\u000eô<ÞÚU±S=\u0003Óe×Wªë\u0014\n",
        "Ø šu´\u00188½ÑQHT*Ä›nd˜@¬G}Ù$Î\\‘£2T#Ô–\u0011 -”²W\u000b\u0016„ôsC·ý\u001eÉâþà\u0001\u0010 w¥È\u0018ŠÏ¸Î‚k_¶\u0004%àUc\u0003\u0011R¯(´£Ô™‡h­•Dì™,Ê¹éÔ8Ã\u00063R‹ÈÃ|\u001b\u0007\"\u0012\u001c\u0001³#¨~I\n",
        "“—A\fM(X\u0015QÑ\bÃÕ\"ÊX²¡¼´Žï8‡­\u0002 \u000e½ Q;¡@\u00078y^5aK*õb?LKû\n",
        "òýa\fX\u0018‘ö\u0007¥ \u0018DÒT9%%”äŠBŠr\u0015PJïdT\u0002CIäòZ2–òM\u0015#w\\\u001dÔ<œ\n",
        "É\u0015\n",
        "(ï\u0014^ ÔAP%‹r¤€—_\u001f\n",
        "èÄ|1\u001cÓneê\u0010ÿ!‹TçÕ~ÐÁ„~µÔˆ[è~¹ :!IõH.ÀE…åH\u0019’N\u0017VNÿ‹Ì±ÜT”0È\u0017å[2Ñ\u0016\u0007\u0004I!äXÆª½\u001b¢`\t…11â_pyörù¾}C‚Q\u0010Ø2ô-á@€v1êû™\u00055v\u000e¸9\u0002\u0002ºliz\u0001µ\u001e0×úpÌlòq6ÉÒ÷§\u0014‘›ØÁU\u0006¦:m\n",
        "ëÂaˆH‹¨ ÀÑ¥=\u000e\t\u000eÒ$B,³3p,Ö+V~5Œ¯@»Hü¸FžhôI‰´¤0N6ô\u0015\"hæˆ\u001dË»Ms.\u0018°ø\u0018~\u00015@½©¯\u0015‹z¡U}u0­Á\u001bjì°o­ßc\u0002Ðí\u0014b\u0018ôŠ\u0001D\u0013ì;Å¢JRßÃƒæ¡Rw©\u0018K~Õ–Óß 2@óà£\u000fK.Z•æ£(\u001aD\"\u0013s”\u0011\u000b…é´úz<¦%n+I\u0005b`šrÄWÀqWí°\bN*ú\u0006lx›¹@5`þ\u001a\n",
        "—ã¼€“EØ™4wí\u0005J„ÎÔ)þ\u0015\u000eeøˆØøéŸpã\u0017áÒ•××;\u001e^æa\u0010È\u0007\u0014r\u000bî¬ã\f—\u0014ªW?~\u001a\u000b0?¤à+Þ­š\u0002\u0001©ÓÛkÂ&†ö°¹*¿\"Œ¦˜·eò:–vÎ©qÙ\fô Í\b„^cå©DP¤¡(\n",
        "’G1\"ÇI#(\u000fð˜ZÙ\u0017\u0019½\u001b¿å3\u0011\u0013u‚Ô¯\u0005Ò¥\u0014Ù_\\:Œ\n",
        "_î‘pNµÉÁ\u001dzNˆ\b‡\u0013Ì&`® Šü`ûÀþ`ÑýÁ\t‚yœ\n",
        "OZû(ó.èb¼Ðõ“ö)jÜÕm´Ý0ˆýé\u0002÷sdwµ<˜ç&²­ÃMl?¼›Ÿu¬\t'êQÆvûaíá<â>×4ÅÚ­©èþÎuêØ¥ÃËj+\u000f±Ørœ·ö_k;]<\u001a—ÃkØ\u000fXz\u0004ºy¨ã3 \u0015™\u001eçÇ»‚—þec³ËÆ\u0006–Ö¬Tµ§Ãq›i¢Ç•›Õ0°¶Xrä·øÍÌoõ|7·]#o¼Ø\u001fv,ûs}fÃ#\u001bÂòã¸êø\u001fâUÅ-9ŽšßÒÎ5z\u0019\u001e\u0005\u001b\u001e·=VÛ>\u0013|\u001cÏ(óÃx®º´ÜŒÅjWÿ¦x\u001aW?òá0–ó˜Ñ\u000eî÷qž€è<ú>ÉÛiàÂð>²—»ù\u0014\n",
        "o\u000e;\n",
        "?Ž•T«÷dÈéÌ:7;)£ê±\u001bdž¿ý9ywú\u0013þò;ÏÙ\u0014ëý/jYÝ7«§_\n",
        "7éøÚÐ§ò2ÙK\fújš\u0001K‰>Ó\u0015µ!Õ¨ê]æÜ\u000f\u0005Ö‹\u001f)\\Sôã?\u000e‡£\u0012®øÕÚƒºuS™îÏUµÁ\u001dÉMéGx9úí\u000f ¢›ª3»)Ÿhê)gkÞŽ\u0003•Óð»[È:sï\\3¦Þ\u000ew\u001b·½\\÷ä\u001eôŽ\u000f\u0006¶NåËè@7mŒ\u000f\u000f±ûÑ\"?ï=²m­ÚoÉ×1©ó|Ì‡-ú´±™\u000eß\\\f®W±{9Ñ;š<¶í‹\u0012û[÷ÍYb–÷ÏëêþŽ@FgòÞZÐy­„ôÀÖF·}/AÝnwÙ\fŽhOW§õ´\\\u000eZ\\ÿ®£õ4\u0014¯ý´™¹ÚÄÐùØ<½éì²;Y^Í-dšÅ¿H'®ý}u‹ç©žÿû‡•ür3ÿ\n",
        "s•±abc\fæïŒ§îOé\u000baK¿ò\u0002fâ3îÆê=z­nOý­¦‘!dât(mºÓÓ‰d»½¡0â”Sæ,³\u001f†¿¸»·=m”–ŸçsÏ®¾ñ^q.GòÃ\u001eÂ\u000f#Çø4ÐP3¿`»ZCTÒx¿dhÉQv+A\u0014 H\u0010Æ\n",
        "\u0011\u0004\t@ù¡ Q‚üíÄ';È\u0007è?\u0011‚†ÊƒÂ’/>(\bü\u0007\u001fü·pEßÎî£•¿$3¡×f\u0001&ø\n",
        "ø\u0011Îÿ2*³j%X@M±€öÇ¯\u001a {\u000fS#.D2iÿ\u0001¬Ñ,SÛ:ô\f+â¨ùÇ\u0006ìÑì‡°¼Ã‡®ÆŠþÔHWÒìi¨©\u0019s]ìfÚ\u0017egŸ›Ÿõ\";\u00165[ú£ð©Ï¿ß$«òà1Fõ\fVû\n",
        "ã¯Bû„B\u000b\\W„ÒW\u000bojAÇÌ7 ¶YÄö+—éi¹RDoTw²f\u00165t\u0003Õ…ù¸è¸~ëÎ¯eÑóª‡Äú%UðøUÊD”Åî%Žd TÌ\n",
        "¼<ž†ÌÎ’o#´¯[6(Éˆ¦•.—èæå\n",
        "_1Ê\u001ej\u0005\f\u001aó)°ê!KÙS€\u0007z§R30R®Îæ\tËòÕ\u0019y\u001fÛwhò\u000bä5\u0019å\u000e\u0005Ã1Þè²–\t^\t\u0016QÜ\u001c€Å’Â~}‚G\u0014£tX.Ù½\u000f0·ªZð4\u001béu7´e˜3ÚÍ¬g2b|·RC8\u0001>AñÐÃÈ\u0015Ï„b3£õö\u0010çØàÉ~\u0018ò:Y\u0007¸ÌYêÏ\u001aLçM\u0007[\u001d³ ŒŽ÷d¹Tÿ\u0001•Ô\n",
        "Ú·Ÿ:\u001dáÐ\u0019\u0010êì–ïM5\u0012Â³kæ‘p\b·vf8í‘«\u001b~|\u0013£pW®yS8rÅ[*i¿æõ ÿŸÚ\n",
        "\bD\u000bð?UÚú»üCÝ­¿Oð_Kþü»´|™Ì¿\u0015 úûÀÿZ\u0005åße\u000bìOâý?ÔDùû<¯„ñ—\u0010Aþ·º\u0018\u001fü÷Z\u000eÉO¨®ìð÷\u0019þž:ÿ—ØÁþ?%Òÿ}Â¿g¢ÿ%\u000epÿ˜—þ÷\tþž\tø—0£þ-/ðïCÿž7ô—\b`þÏYDŸå¿þÅóï²Î\n",
        " ðßþðùûð¿‡àÉ\u000f¾ÿ\u001eÿ·+ú·\bî/q\u0017øŽçþ>éõ\u0002ÿ.á\u0012ÿö‹þå\u0013\u0014¤AÁþèƒýz\u0018}0“þ£ìÓÿ\u0001PK\u0001\u0002\u0014 \u0014 \u0002 \b ü *P\u000fB¦\u001a„C  âN  \u0013 $               Mappe1 - Kopie.xlsx\n",
        "       \u0001 \u0018 @8yDéÇÕ\u0001@8yDéÇÕ\u0001\u0010I@.éÇÕ\u0001PK\u0005\u0006    \u0001 \u0001 e   µC    "
      ]
    },
    {
      "cell_type": "code",
      "metadata": {
        "colab_type": "code",
        "id": "xitplqMNk_Hc",
        "outputId": "ed4f60d2-878d-4056-c438-352dac39a112",
        "colab": {
          "height": 420
        }
      },
      "source": [
        "#@title Introducing Colaboratory { display-mode: \"form\" }\n",
        "#@markdown This 3-minute video gives an overview of the key features of Colaboratory:\n",
        "from IPython.display import YouTubeVideo\n",
        "YouTubeVideo('inN8seMm7UI', width=600, height=400)"
      ],
      "execution_count": 0,
      "outputs": [
        {
          "output_type": "execute_result",
          "data": {
            "text/html": [
              "\n",
              "        <iframe\n",
              "            width=\"600\"\n",
              "            height=\"400\"\n",
              "            src=\"https://www.youtube.com/embed/inN8seMm7UI\"\n",
              "            frameborder=\"0\"\n",
              "            allowfullscreen\n",
              "        ></iframe>\n",
              "        "
            ],
            "text/plain": [
              "<IPython.lib.display.YouTubeVideo at 0x7f956e9dda50>"
            ]
          },
          "metadata": {
            "tags": []
          },
          "execution_count": 0
        }
      ]
    },
    {
      "cell_type": "markdown",
      "metadata": {
        "colab_type": "text",
        "id": "GJBs_flRovLc"
      },
      "source": [
        "## Getting Started\n",
        "\n",
        "The document you are reading is a  [Jupyter notebook](https://jupyter.org/), hosted in Colaboratory. It is not a static page, but an interactive environment that lets you write and execute code in Python and other languages.\n",
        "\n",
        "For example, here is a **code cell** with a short Python script that computes a value, stores it in a variable, and prints the result:"
      ]
    },
    {
      "cell_type": "code",
      "metadata": {
        "colab_type": "code",
        "id": "gJr_9dXGpJ05",
        "outputId": "5626194c-e802-4293-942d-2908885c3c1f",
        "colab": {
          "height": 35
        }
      },
      "source": [
        "seconds_in_a_day = 24 * 60 * 60\n",
        "seconds_in_a_day"
      ],
      "execution_count": 0,
      "outputs": [
        {
          "output_type": "execute_result",
          "data": {
            "text/plain": [
              "86400"
            ]
          },
          "metadata": {
            "tags": []
          },
          "execution_count": 0
        }
      ]
    },
    {
      "cell_type": "markdown",
      "metadata": {
        "colab_type": "text",
        "id": "2fhs6GZ4qFMx"
      },
      "source": [
        "To execute the code in the above cell, select it with a click and then either press the play button to the left of the code, or use the keyboard shortcut \"Command/Ctrl+Enter\".\n",
        "\n",
        "All cells modify the same global state, so variables that you define by executing a cell can be used in other cells:"
      ]
    },
    {
      "cell_type": "code",
      "metadata": {
        "colab_type": "code",
        "id": "-gE-Ez1qtyIA",
        "outputId": "8d2e4259-4682-4e19-b683-7b9087f28820",
        "colab": {
          "height": 35
        }
      },
      "source": [
        "seconds_in_a_week = 7 * seconds_in_a_day\n",
        "seconds_in_a_week"
      ],
      "execution_count": 0,
      "outputs": [
        {
          "output_type": "execute_result",
          "data": {
            "text/plain": [
              "604800"
            ]
          },
          "metadata": {
            "tags": []
          },
          "execution_count": 0
        }
      ]
    },
    {
      "cell_type": "markdown",
      "metadata": {
        "colab_type": "text",
        "id": "lSrWNr3MuFUS"
      },
      "source": [
        "For more information about working with Colaboratory notebooks, see [Overview of Colaboratory](/notebooks/basic_features_overview.ipynb).\n"
      ]
    },
    {
      "cell_type": "markdown",
      "metadata": {
        "colab_type": "text",
        "id": "-Rh3-Vt9Nev9"
      },
      "source": [
        "## More Resources\n",
        "\n",
        "Learn how to make the most of Python, Jupyter, Colaboratory, and related tools with these resources:\n",
        "\n",
        "### Working with Notebooks in Colaboratory\n",
        "- [Overview of Colaboratory](/notebooks/basic_features_overview.ipynb)\n",
        "- [Guide to Markdown](/notebooks/markdown_guide.ipynb)\n",
        "- [Importing libraries and installing dependencies](/notebooks/snippets/importing_libraries.ipynb)\n",
        "- [Saving and loading notebooks in GitHub](https://colab.research.google.com/github/googlecolab/colabtools/blob/master/notebooks/colab-github-demo.ipynb)\n",
        "- [Interactive forms](/notebooks/forms.ipynb)\n",
        "- [Interactive widgets](/notebooks/widgets.ipynb)\n",
        "- <img src=\"/img/new.png\" height=\"20px\" align=\"left\" hspace=\"4px\" alt=\"New\"></img>\n",
        " [TensorFlow 2 in Colab](/notebooks/tensorflow_version.ipynb)\n",
        "\n",
        "### Working with Data\n",
        "- [Loading data: Drive, Sheets, and Google Cloud Storage](/notebooks/io.ipynb) \n",
        "- [Charts: visualizing data](/notebooks/charts.ipynb)\n",
        "- [Getting started with BigQuery](/notebooks/bigquery.ipynb)\n",
        "\n",
        "### Machine Learning Crash Course\n",
        "These are a few of the notebooks from Google's online Machine Learning course. See the [full course website](https://developers.google.com/machine-learning/crash-course/) for more.\n",
        "- [Intro to Pandas](/notebooks/mlcc/intro_to_pandas.ipynb)\n",
        "- [Tensorflow concepts](/notebooks/mlcc/tensorflow_programming_concepts.ipynb)\n",
        "- [First steps with TensorFlow](/notebooks/mlcc/first_steps_with_tensor_flow.ipynb)\n",
        "- [Intro to neural nets](/notebooks/mlcc/intro_to_neural_nets.ipynb)\n",
        "- [Intro to sparse data and embeddings](/notebooks/mlcc/intro_to_sparse_data_and_embeddings.ipynb)\n",
        "\n",
        "### Using Accelerated Hardware\n",
        "- [TensorFlow with GPUs](/notebooks/gpu.ipynb)\n",
        "- [TensorFlow with TPUs](/notebooks/tpu.ipynb)"
      ]
    },
    {
      "cell_type": "markdown",
      "metadata": {
        "colab_type": "text",
        "id": "P-H6Lw1vyNNd"
      },
      "source": [
        "## Machine Learning Examples: Seedbank\n",
        "\n",
        "To see end-to-end examples of the interactive machine learning analyses that Colaboratory makes possible, check out the [Seedbank](https://research.google.com/seedbank/) project.\n",
        "\n",
        "A few featured examples:\n",
        "\n",
        "- [Neural Style Transfer](https://research.google.com/seedbank/seed/neural_style_transfer_with_tfkeras): Use deep learning to transfer style between images.\n",
        "- [EZ NSynth](https://research.google.com/seedbank/seed/ez_nsynth): Synthesize audio with WaveNet auto-encoders.\n",
        "- [Fashion MNIST with Keras and TPUs](https://research.google.com/seedbank/seed/fashion_mnist_with_keras_and_tpus): Classify fashion-related images with deep learning.\n",
        "- [DeepDream](https://research.google.com/seedbank/seed/deepdream): Produce DeepDream images from your own photos.\n",
        "- [Convolutional VAE](https://research.google.com/seedbank/seed/convolutional_vae): Create a generative model of handwritten digits."
      ]
    }
  ]
}