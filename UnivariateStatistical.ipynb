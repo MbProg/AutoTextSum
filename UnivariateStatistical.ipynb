{
  "nbformat": 4,
  "nbformat_minor": 0,
  "metadata": {
    "colab": {
      "name": "UnivariateStatistical.ipynb",
      "provenance": [],
      "toc_visible": true,
      "include_colab_link": true
    },
    "kernelspec": {
      "name": "python3",
      "display_name": "Python 3"
    }
  },
  "cells": [
    {
      "cell_type": "markdown",
      "metadata": {
        "id": "view-in-github",
        "colab_type": "text"
      },
      "source": [
        "<a href=\"https://colab.research.google.com/github/MbProg/AutoTextSum/blob/master/UnivariateStatistical.ipynb\" target=\"_parent\"><img src=\"https://colab.research.google.com/assets/colab-badge.svg\" alt=\"Open In Colab\"/></a>"
      ]
    },
    {
      "cell_type": "markdown",
      "metadata": {
        "id": "ZViDZ-ehahLr",
        "colab_type": "text"
      },
      "source": [
        "# Import Data"
      ]
    },
    {
      "cell_type": "code",
      "metadata": {
        "id": "MKvz8SZbFdnT",
        "colab_type": "code",
        "colab": {}
      },
      "source": [
        "from statsmodels.tsa.stattools import adfuller"
      ],
      "execution_count": 0,
      "outputs": []
    },
    {
      "cell_type": "code",
      "metadata": {
        "id": "nNNIv8_yHIuL",
        "colab_type": "code",
        "outputId": "8fdd6ea3-9038-4ca2-ccda-8e107cd1dd59",
        "colab": {
          "base_uri": "https://localhost:8080/",
          "height": 34
        }
      },
      "source": [
        "from google.colab import drive\n",
        "drive.mount('/content/drive')"
      ],
      "execution_count": 0,
      "outputs": [
        {
          "output_type": "stream",
          "text": [
            "Drive already mounted at /content/drive; to attempt to forcibly remount, call drive.mount(\"/content/drive\", force_remount=True).\n"
          ],
          "name": "stdout"
        }
      ]
    },
    {
      "cell_type": "markdown",
      "metadata": {
        "id": "dciUjRA0al0q",
        "colab_type": "text"
      },
      "source": [
        "## Import and plot data"
      ]
    },
    {
      "cell_type": "code",
      "metadata": {
        "id": "vmg8B48DHOgk",
        "colab_type": "code",
        "outputId": "a80c8a9b-ac80-467e-a30d-784c7e9cd969",
        "colab": {
          "base_uri": "https://localhost:8080/",
          "height": 406
        }
      },
      "source": [
        "from pandas import read_csv\n",
        "import matplotlib.pyplot as plt\n",
        "\n",
        "df = read_csv('drive/My Drive/MT/Experiments/Univariate/YahooServiceNetworkTraffic/A1Benchmark/real_4.csv', header=0, index_col=0, parse_dates=True,squeeze=True)\n",
        "print(df.head())\n",
        "df_anomaly = df.loc[df['is_anomaly']==1.]\n",
        "print('Anomaly shape:',df_anomaly.shape)\n",
        "plt.figure(figsize=(10,4))\n",
        "plt.plot(df.index,df['value'])\n",
        "plt.scatter(df_anomaly.index, df_anomaly['value'],color='red')\n",
        "plt.show()"
      ],
      "execution_count": 0,
      "outputs": [
        {
          "output_type": "stream",
          "text": [
            "           value  is_anomaly\n",
            "timestamp                   \n",
            "1              5           0\n",
            "2             60           0\n",
            "3             88           0\n",
            "4             84           0\n",
            "5            111           0\n",
            "Anomaly shape: (5, 2)\n"
          ],
          "name": "stdout"
        },
        {
          "output_type": "display_data",
          "data": {
            "image/png": "[encoded data removed]",
            "text/plain": [
              "<Figure size 720x288 with 1 Axes>"
            ]
          },
          "metadata": {
            "tags": []
          }
        }
      ]
    },
    {
      "cell_type": "markdown",
      "metadata": {
        "id": "Yt_IE3k4a6gy",
        "colab_type": "text"
      },
      "source": [
        "# Box - Jenkins Method:\n",
        "\n",
        "\n",
        "1.   Identification\n",
        "2.   Estimation\n",
        "3.   Diagnostic Checking\n",
        "\n"
      ]
    },
    {
      "cell_type": "markdown",
      "metadata": {
        "id": "DzaKeAoEbKOK",
        "colab_type": "text"
      },
      "source": [
        "## Identification"
      ]
    },
    {
      "cell_type": "markdown",
      "metadata": {
        "id": "WhGJPViObMpy",
        "colab_type": "text"
      },
      "source": [
        "### Unit Root Testing"
      ]
    },
    {
      "cell_type": "markdown",
      "metadata": {
        "id": "_KvJjNi5bSox",
        "colab_type": "text"
      },
      "source": [
        "#### Orginal Data"
      ]
    },
    {
      "cell_type": "code",
      "metadata": {
        "id": "JsCN8YVcH6Kn",
        "colab_type": "code",
        "outputId": "c8bc71c3-12e4-46a6-cccf-32c78c4b139f",
        "colab": {
          "base_uri": "https://localhost:8080/",
          "height": 123
        }
      },
      "source": [
        "from statsmodels.tsa.stattools import adfuller\n",
        "X = df.iloc[:,0].values\n",
        "result = adfuller(X)\n",
        "print('ADF Statistic: %f' % result[0])\n",
        "print('p-value: %f' % result[1])\n",
        "print('Critical Values:')\n",
        "for key, value in result[4].items():\n",
        "    print('\\t%s: %.3f' % (key, value))  "
      ],
      "execution_count": 0,
      "outputs": [
        {
          "output_type": "stream",
          "text": [
            "ADF Statistic: 3.176938\n",
            "p-value: 1.000000\n",
            "Critical Values:\n",
            "\t1%: -3.435\n",
            "\t5%: -2.864\n",
            "\t10%: -2.568\n"
          ],
          "name": "stdout"
        }
      ]
    },
    {
      "cell_type": "markdown",
      "metadata": {
        "id": "x-bYeEvabWLP",
        "colab_type": "text"
      },
      "source": [
        "#### Logged Data"
      ]
    },
    {
      "cell_type": "code",
      "metadata": {
        "id": "S-gDXoRkIcsZ",
        "colab_type": "code",
        "outputId": "d101c255-b628-4123-ecfc-03feadef95ff",
        "colab": {
          "base_uri": "https://localhost:8080/",
          "height": 105
        }
      },
      "source": [
        "from numpy import log\n",
        "X = df.iloc[:,0].values\n",
        "X = log(X)\n",
        "result = adfuller(X)\n",
        "print('ADF Statistic: %f' % result[0])\n",
        "print('p-value: %f' % result[1])\n",
        "for key, value in result[4].items():\n",
        "    print('\\t%s: %.3f' % (key, value))"
      ],
      "execution_count": 0,
      "outputs": [
        {
          "output_type": "stream",
          "text": [
            "ADF Statistic: -3.869057\n",
            "p-value: 0.002275\n",
            "\t1%: -3.435\n",
            "\t5%: -2.864\n",
            "\t10%: -2.568\n"
          ],
          "name": "stdout"
        }
      ]
    },
    {
      "cell_type": "code",
      "metadata": {
        "id": "tAZRK2ycKBjx",
        "colab_type": "code",
        "outputId": "8fe58e6c-7f40-4e6c-fed6-67852cb7f0c9",
        "colab": {
          "base_uri": "https://localhost:8080/",
          "height": 282
        }
      },
      "source": [
        "plt.plot(X)"
      ],
      "execution_count": 0,
      "outputs": [
        {
          "output_type": "execute_result",
          "data": {
            "text/plain": [
              "[<matplotlib.lines.Line2D at 0x7fb8ad7939e8>]"
            ]
          },
          "metadata": {
            "tags": []
          },
          "execution_count": 28
        },
        {
          "output_type": "display_data",
          "data": {
            "image/png": "[encoded data removed]",
            "text/plain": [
              "<Figure size 432x288 with 1 Axes>"
            ]
          },
          "metadata": {
            "tags": []
          }
        }
      ]
    },
    {
      "cell_type": "markdown",
      "metadata": {
        "id": "27YUg5s4bYwh",
        "colab_type": "text"
      },
      "source": [
        "#### Differenced Data"
      ]
    },
    {
      "cell_type": "code",
      "metadata": {
        "id": "Cg-XJA31IuUk",
        "colab_type": "code",
        "outputId": "de3c11e7-5b50-4265-d8a5-66ed6177a36a",
        "colab": {
          "base_uri": "https://localhost:8080/",
          "height": 105
        }
      },
      "source": [
        "X = df.iloc[:,0].diff().values\n",
        "X[0] = 0\n",
        "result = adfuller(X)\n",
        "print('ADF Statistic: %f' % result[0])\n",
        "print('p-value: %f' % result[1])\n",
        "for key, value in result[4].items():\n",
        "    print('\\t%s: %.3f' % (key, value))"
      ],
      "execution_count": 0,
      "outputs": [
        {
          "output_type": "stream",
          "text": [
            "ADF Statistic: -14.011125\n",
            "p-value: 0.000000\n",
            "\t1%: -3.435\n",
            "\t5%: -2.864\n",
            "\t10%: -2.568\n"
          ],
          "name": "stdout"
        }
      ]
    },
    {
      "cell_type": "markdown",
      "metadata": {
        "id": "89DOr0qeYBVZ",
        "colab_type": "text"
      },
      "source": [
        "### Scatter Plot Correlation between lags"
      ]
    },
    {
      "cell_type": "code",
      "metadata": {
        "id": "BXorvh6OWPH3",
        "colab_type": "code",
        "outputId": "8fd2fb63-7d6e-471c-ae92-fa935945546a",
        "colab": {
          "base_uri": "https://localhost:8080/",
          "height": 296
        }
      },
      "source": [
        "from pandas.plotting import lag_plot\n",
        "lag_plot(df.iloc[:,0],lag=1,s=2,c='red')\n"
      ],
      "execution_count": 0,
      "outputs": [
        {
          "output_type": "execute_result",
          "data": {
            "text/plain": [
              "<matplotlib.axes._subplots.AxesSubplot at 0x7fb8ab6f3518>"
            ]
          },
          "metadata": {
            "tags": []
          },
          "execution_count": 46
        },
        {
          "output_type": "display_data",
          "data": {
            "image/png": "[encoded data removed]",
            "text/plain": [
              "<Figure size 432x288 with 1 Axes>"
            ]
          },
          "metadata": {
            "tags": []
          }
        }
      ]
    },
    {
      "cell_type": "markdown",
      "metadata": {
        "id": "hdr_wAInX2LZ",
        "colab_type": "text"
      },
      "source": [
        "### Correlation between lags"
      ]
    },
    {
      "cell_type": "code",
      "metadata": {
        "id": "MLHrD1WnXFWT",
        "colab_type": "code",
        "outputId": "328973ac-c366-49d0-9a58-05b7993dafde",
        "colab": {
          "base_uri": "https://localhost:8080/",
          "height": 70
        }
      },
      "source": [
        "import pandas as pd\n",
        "values = pd.DataFrame(df.iloc[:,0].values)\n",
        "dataframe = pd.concat([values.shift(1), values], axis=1)\n",
        "dataframe.columns = ['t', 't+1']\n",
        "result = dataframe.corr()\n",
        "print(result)"
      ],
      "execution_count": 0,
      "outputs": [
        {
          "output_type": "stream",
          "text": [
            "           t      t+1\n",
            "t    1.00000  0.41531\n",
            "t+1  0.41531  1.00000\n"
          ],
          "name": "stdout"
        }
      ]
    },
    {
      "cell_type": "markdown",
      "metadata": {
        "id": "YYALAatOYG-4",
        "colab_type": "text"
      },
      "source": [
        "### ACF Plot "
      ]
    },
    {
      "cell_type": "code",
      "metadata": {
        "id": "C9It-u1CYKfB",
        "colab_type": "code",
        "outputId": "1074a778-ac3b-4a5d-8e4b-5ea92a7c6b08",
        "colab": {
          "base_uri": "https://localhost:8080/",
          "height": 283
        }
      },
      "source": [
        "from pandas import read_csv\n",
        "from matplotlib import pyplot\n",
        "from pandas.plotting import autocorrelation_plot\n",
        "series =pd.DataFrame(df.iloc[:,0].values)\n",
        "autocorrelation_plot(series)\n",
        "pyplot.show()"
      ],
      "execution_count": 0,
      "outputs": [
        {
          "output_type": "display_data",
          "data": {
            "image/png": "[encoded data removed]",
            "text/plain": [
              "<Figure size 432x288 with 1 Axes>"
            ]
          },
          "metadata": {
            "tags": []
          }
        }
      ]
    },
    {
      "cell_type": "code",
      "metadata": {
        "id": "Y53Gkb2QYvPA",
        "colab_type": "code",
        "outputId": "d7b68432-8f0e-473a-9cdd-934d31829026",
        "colab": {
          "base_uri": "https://localhost:8080/",
          "height": 281
        }
      },
      "source": [
        "from pandas import read_csv\n",
        "from matplotlib import pyplot\n",
        "from statsmodels.graphics.tsaplots import plot_acf\n",
        "series = pd.DataFrame(df.iloc[:,0].values)\n",
        "plot_acf(series, lags=60)\n",
        "pyplot.show()"
      ],
      "execution_count": 0,
      "outputs": [
        {
          "output_type": "display_data",
          "data": {
            "image/png": "[encoded data removed]",
            "text/plain": [
              "<Figure size 432x288 with 1 Axes>"
            ]
          },
          "metadata": {
            "tags": []
          }
        }
      ]
    },
    {
      "cell_type": "markdown",
      "metadata": {
        "id": "o3RND97CaBSS",
        "colab_type": "text"
      },
      "source": [
        "# Forecasting"
      ]
    },
    {
      "cell_type": "markdown",
      "metadata": {
        "id": "1uyV7PRZaZ-U",
        "colab_type": "text"
      },
      "source": [
        "## Create Persistent Model"
      ]
    },
    {
      "cell_type": "code",
      "metadata": {
        "id": "5grny_LuZ16N",
        "colab_type": "code",
        "outputId": "26bcc97b-33df-457c-c14f-e9f966a0a40c",
        "colab": {
          "base_uri": "https://localhost:8080/",
          "height": 300
        }
      },
      "source": [
        "from sklearn.metrics import mean_squared_error\n",
        "from math import sqrt\n",
        "series = pd.DataFrame(df.iloc[:,0].values)\n",
        "# create lagged dataset\n",
        "values = df.iloc[:,0]\n",
        "dataframe = pd.concat([values.shift(1), values], axis=1)\n",
        "dataframe.columns = ['t', 't+1']\n",
        "# split into train and test sets\n",
        "X = dataframe.values\n",
        "train, test = X[1:len(X)-7], X[len(X)-7:]\n",
        "train_X, train_y = train[:,0], train[:,1]\n",
        "test_X, test_y = test[:,0], test[:,1]\n",
        "# persistence model\n",
        "def model_persistence(x):\n",
        "    return x\n",
        "# walk-forward validation\n",
        "predictions = list()\n",
        "for x in test_X:\n",
        "    yhat = model_persistence(x)\n",
        "    predictions.append(yhat)\n",
        "rmse = sqrt(mean_squared_error(test_y, predictions))\n",
        "print('Train shape', train_X.shape, ' - Test shape:' , test_X)\n",
        "print('Test RMSE: %.3f' % rmse)\n",
        "# plot predictions vs expected\n",
        "pyplot.plot(test_y)\n",
        "pyplot.plot(predictions, color='red')\n",
        "pyplot.show()"
      ],
      "execution_count": 0,
      "outputs": [
        {
          "output_type": "stream",
          "text": [
            "Train shape (1415,)  - Test shape: [   42.    54.    37.  7665.  5781. 12673.    67.]\n",
            "Test RMSE: 6189.267\n"
          ],
          "name": "stdout"
        },
        {
          "output_type": "display_data",
          "data": {
            "image/png": "[encoded data removed]",
            "text/plain": [
              "<Figure size 432x288 with 1 Axes>"
            ]
          },
          "metadata": {
            "tags": []
          }
        }
      ]
    },
    {
      "cell_type": "markdown",
      "metadata": {
        "id": "w8rN4FSSfq--",
        "colab_type": "text"
      },
      "source": [
        "## AR Model"
      ]
    },
    {
      "cell_type": "code",
      "metadata": {
        "id": "FdryJaTKe_j6",
        "colab_type": "code",
        "outputId": "1bd0f8d6-572a-4aae-ecb9-72f3746dc84d",
        "colab": {
          "base_uri": "https://localhost:8080/",
          "height": 787
        }
      },
      "source": [
        "from statsmodels.tsa.ar_model import AR\n",
        "from sklearn.metrics import mean_squared_error\n",
        "from math import sqrt\n",
        "from pandas import read_csv\n",
        "import pandas as pd\n",
        "from pandas import DataFrame\n",
        "from pandas import concat\n",
        "import numpy as np \n",
        "from matplotlib import pyplot\n",
        "\n",
        "class AR_Compact:\n",
        "\n",
        "    def model_persistence(self, x):\n",
        "        return x\n",
        "\n",
        "    def create_persistence(self):\n",
        "        predictions = list()\n",
        "        for x in self.test_X:\n",
        "            yhat = self.model_persistence(x)\n",
        "            predictions.append(yhat)\n",
        "        rmse = sqrt(mean_squared_error(self.test_y, predictions))\n",
        "        print('Train shape', self.train_X.shape, ' - Test shape:' , self.test_X.shape)\n",
        "        print('Persistent Model RMSE: %.3f' % rmse)        \n",
        "\n",
        "\n",
        "    def __init__(self, path, train_rate):\n",
        "        df = read_csv(path, header=0, index_col=0, parse_dates=True,squeeze=True)\n",
        "        series = pd.DataFrame(df.iloc[:,0].values)  \n",
        "        self.values = DataFrame(series.values)\n",
        "        self.dataframe = concat([self.values.shift(1), self.values], axis=1)\n",
        "        self.dataframe.columns = ['t', 't+1']\n",
        "\n",
        "        self.train_size = int(len(self.values) * train_rate)\n",
        "\n",
        "        self.train, self.test = self.dataframe.values[1:self.train_size], self.dataframe.values[self.train_size:]\n",
        "        self.train_X, self.train_y = self.train[:,0], self.train[:,1]\n",
        "        self.test_X, self.test_y = self.test[:,0], self.test[:,1]     \n",
        "        self.create_persistence()\n",
        "\n",
        "        X = series.values\n",
        "        self.train, self.test = X[1:self.train_size], X[self.train_size:]\n",
        "\n",
        "          \n",
        "    def fit(self, verbose=False):\n",
        "        self.model = AR(self.train)\n",
        "        self.model_fit = self.model.fit()\n",
        "        self.window = self.model_fit.k_ar\n",
        "        self.coef = self.model_fit.params  \n",
        "        if verbose:      \n",
        "            print('Lag: %s' % self.model_fit.k_ar)\n",
        "            print('Coefficients: %s' % self.model_fit.params)\n",
        "\n",
        "    \n",
        "    def predict(self):\n",
        "        self.history = self.train[len(self.train)-self.window:]\n",
        "        self.history = [self.history[i] for i in range(len(self.history))]\n",
        "        self.predictions = list()\n",
        "        for t in range(len(self.test)):\n",
        "            length = len(self.history)\n",
        "            lag = [self.history[i] for i in range(length-self.window,length)]\n",
        "            yhat = self.coef[0]\n",
        "            for d in range(self.window):\n",
        "                yhat += self.coef[d+1] * lag[self.window-d-1]\n",
        "            obs = self.test[t]\n",
        "            self.predictions.append(yhat)\n",
        "            self.history.append(obs)        \n",
        "        # for i in range(len(predictions)):\n",
        "        #     print('predicted=%f, expected=%f' % (predictions[i], test[i]))\n",
        "        rmse = sqrt(mean_squared_error(self.test, self.predictions))\n",
        "        self.errors = np.absolute(self.test - np.array(self.predictions))\n",
        "        print('Prediction Test RMSE: %.3f' % rmse)\n",
        "\n",
        "    def plot(self):\n",
        "        # plot predicted error\n",
        "        pyplot.figure(figsize=(50,5))\n",
        "        pyplot.plot(self.test)\n",
        "        pyplot.plot(self.predictions, color='red')\n",
        "        pyplot.plot(self.errors, color = 'yellow')\n",
        "        pyplot.show()\n",
        "\n",
        "    def get_roc_auc(self, plot=True):\n",
        "        # get the predicted errors of the anomaly points\n",
        "        true_anomaly_predicted_errors = self.errors[df[df['is_anomaly']==1].index - self.train_size]\n",
        "        # sort them \n",
        "        true_anomaly_predicted_errors = np.sort(true_anomaly_predicted_errors,axis=0).reshape(-1)\n",
        "        # true_anomaly_predicted_errors_extended = np.r_[np.array([0]),true_anomaly_predicted_errors,np.array([1000000])]\n",
        "        # now iterate thru the predicted errors from small to big\n",
        "        # for each value look how much other points have equal or bigger error\n",
        "        FPR = [] # fp/n  https://en.wikipedia.org/wiki/Sensitivity_and_specificity\n",
        "        TPR = [] # tp/p\n",
        "        p = len(true_anomaly_predicted_errors)\n",
        "        Thresholds = []\n",
        "        for predictederror in true_anomaly_predicted_errors_extended:\n",
        "            threshold = predictederror\n",
        "            tp = len(true_anomaly_predicted_errors[true_anomaly_predicted_errors>= threshold])\n",
        "            fp = len(self.errors[self.errors>=threshold])-len(true_anomaly_predicted_errors[true_anomaly_predicted_errors>=threshold])\n",
        "            \n",
        "            fpr =fp/len(self.errors)\n",
        "            FPR.append(fpr)\n",
        "            TPR.append(tp/p)\n",
        "            print(threshold,' - FP:', fp,' - TP:',tp, ' - FPR :' ,fpr,' - TPR:', tp/p)\n",
        "\n",
        "        import matplotlib.pyplot as plt\n",
        "        if plot:\n",
        "            plt.figure()\n",
        "            plt.axis([0, 1, 0, 1])\n",
        "            plt.plot(FPR,TPR)\n",
        "            plt.show() \n",
        "\n",
        "        # This is the AUC\n",
        "        from sklearn.metrics import auc\n",
        "        print('AUC: ' ,auc(FPR,TPR)        )\n",
        "ar_model = AR_Compact('drive/My Drive/MT/Experiments/Univariate/YahooServiceNetworkTraffic/A1Benchmark/real_4.csv', 0.66)\n",
        "ar_model.fit()\n",
        "ar_model.predict()\n",
        "ar_model.plot()\n",
        "ar_model.get_roc_auc()"
      ],
      "execution_count": 0,
      "outputs": [
        {
          "output_type": "stream",
          "text": [
            "Train shape (938,)  - Test shape: (484,)\n",
            "Persistent Model RMSE: 867.478\n",
            "Prediction Test RMSE: 755.167\n"
          ],
          "name": "stdout"
        },
        {
          "output_type": "display_data",
          "data": {
            "image/png": "[encoded data removed]",
            "text/plain": [
              "<Figure size 3600x360 with 1 Axes>"
            ]
          },
          "metadata": {
            "tags": []
          }
        },
        {
          "output_type": "stream",
          "text": [
            "0.0  - FP: 479  - TP: 5  - FPR : 0.9896694214876033  - TPR: 1.0\n",
            "301.84218861392344  - FP: 16  - TP: 5  - FPR : 0.03305785123966942  - TPR: 1.0\n",
            "644.5334653132012  - FP: 10  - TP: 4  - FPR : 0.02066115702479339  - TPR: 0.8\n",
            "2496.5340125221496  - FP: 4  - TP: 3  - FPR : 0.008264462809917356  - TPR: 0.6\n",
            "4509.455404637594  - FP: 2  - TP: 2  - FPR : 0.004132231404958678  - TPR: 0.4\n",
            "11441.589124627042  - FP: 0  - TP: 1  - FPR : 0.0  - TPR: 0.2\n",
            "1000000.0  - FP: 0  - TP: 0  - FPR : 0.0  - TPR: 0.0\n"
          ],
          "name": "stdout"
        },
        {
          "output_type": "display_data",
          "data": {
            "image/png": "[encoded data removed]",
            "text/plain": [
              "<Figure size 432x288 with 1 Axes>"
            ]
          },
          "metadata": {
            "tags": []
          }
        },
        {
          "output_type": "stream",
          "text": [
            "AUC:  0.9797520661157024\n"
          ],
          "name": "stdout"
        }
      ]
    },
    {
      "cell_type": "code",
      "metadata": {
        "id": "rNnIKti0w33v",
        "colab_type": "code",
        "outputId": "6c2557db-b55e-409d-9ef9-0235c6c87752",
        "colab": {
          "base_uri": "https://localhost:8080/",
          "height": 411
        }
      },
      "source": [
        "# get the predicted errors of the anomaly points\n",
        "true_anomaly_predicted_errors = ar_model.errors[df[df['is_anomaly']==1].index - ar_model.train_size]\n",
        "# sort them \n",
        "true_anomaly_predicted_errors = np.sort(true_anomaly_predicted_errors,axis=0).reshape(-1)\n",
        "# true_anomaly_predicted_errors_extended = np.r_[np.array([0]),true_anomaly_predicted_errors,np.array([1000000])]\n",
        "# now iterate thru the predicted errors from small to big\n",
        "# for each value look how much other points have equal or bigger error\n",
        "FPR = [] # fp/n  https://en.wikipedia.org/wiki/Sensitivity_and_specificity\n",
        "TPR = [] # tp/p\n",
        "p = len(true_anomaly_predicted_errors)\n",
        "Thresholds = []\n",
        "for predictederror in true_anomaly_predicted_errors_extended:\n",
        "    threshold = predictederror\n",
        "    # detected_anomalies = ar_model.errors[ar_model.error>predictederror]    \n",
        "    tp = len(true_anomaly_predicted_errors[true_anomaly_predicted_errors>= threshold])\n",
        "    fp = len(ar_model.errors[ar_model.errors>=threshold])-len(true_anomaly_predicted_errors[true_anomaly_predicted_errors>=threshold])\n",
        "    \n",
        "    fpr =fp/len(ar_model.errors)\n",
        "    FPR.append(fpr)\n",
        "    TPR.append(tp/p)\n",
        "    print(threshold,' - FP:', fp,' - TP:',tp, ' - FPR :' ,fpr,' - TPR:', tp/p)\n",
        "\n",
        "import matplotlib.pyplot as plt\n",
        "\n",
        "plt.figure()\n",
        "plt.axis([0, 1, 0, 1])\n",
        "plt.plot(FPR,TPR)\n",
        "plt.show() \n",
        "\n",
        "# This is the AUC\n",
        "from sklearn.metrics import auc\n",
        "auc(FPR,TPR)"
      ],
      "execution_count": 0,
      "outputs": [
        {
          "output_type": "stream",
          "text": [
            "0.0  - FP: 479  - TP: 5  - FPR : 0.9896694214876033  - TPR: 1.0\n",
            "301.84218861392344  - FP: 16  - TP: 5  - FPR : 0.03305785123966942  - TPR: 1.0\n",
            "644.5334653132012  - FP: 10  - TP: 4  - FPR : 0.02066115702479339  - TPR: 0.8\n",
            "2496.5340125221496  - FP: 4  - TP: 3  - FPR : 0.008264462809917356  - TPR: 0.6\n",
            "4509.455404637594  - FP: 2  - TP: 2  - FPR : 0.004132231404958678  - TPR: 0.4\n",
            "11441.589124627042  - FP: 0  - TP: 1  - FPR : 0.0  - TPR: 0.2\n",
            "1000000.0  - FP: 0  - TP: 0  - FPR : 0.0  - TPR: 0.0\n"
          ],
          "name": "stdout"
        },
        {
          "output_type": "display_data",
          "data": {
            "image/png": "[encoded data removed]",
            "text/plain": [
              "<Figure size 432x288 with 1 Axes>"
            ]
          },
          "metadata": {
            "tags": []
          }
        },
        {
          "output_type": "execute_result",
          "data": {
            "text/plain": [
              "0.9797520661157024"
            ]
          },
          "metadata": {
            "tags": []
          },
          "execution_count": 90
        }
      ]
    },
    {
      "cell_type": "code",
      "metadata": {
        "id": "QuZjpaGQYHTK",
        "colab_type": "code",
        "outputId": "64c60e03-7a6f-4ccc-a45b-de801e18790c",
        "colab": {
          "base_uri": "https://localhost:8080/",
          "height": 34
        }
      },
      "source": [
        "from sklearn.metrics import auc\n",
        "auc(FPR,TPR)"
      ],
      "execution_count": 0,
      "outputs": [
        {
          "output_type": "execute_result",
          "data": {
            "text/plain": [
              "0.9797520661157024"
            ]
          },
          "metadata": {
            "tags": []
          },
          "execution_count": 87
        }
      ]
    },
    {
      "cell_type": "code",
      "metadata": {
        "id": "MZ7Tg_uwyeH3",
        "colab_type": "code",
        "outputId": "1ae565af-bdf1-40ce-9d8c-7a5bb7dc50fe",
        "colab": {
          "base_uri": "https://localhost:8080/",
          "height": 52
        }
      },
      "source": [
        "true_anomaly_predicted_errors = np.sort(true_anomaly_predicted_errors,axis=0).reshape(-1)\n",
        "true_anomaly_predicted_errors"
      ],
      "execution_count": 0,
      "outputs": [
        {
          "output_type": "execute_result",
          "data": {
            "text/plain": [
              "array([  301.84218861,   644.53346531,  2496.53401252,  4509.45540464,\n",
              "       11441.58912463])"
            ]
          },
          "metadata": {
            "tags": []
          },
          "execution_count": 44
        }
      ]
    },
    {
      "cell_type": "code",
      "metadata": {
        "id": "Z-1updWCxsO7",
        "colab_type": "code",
        "colab": {}
      },
      "source": [
        "FPR = [] # fp/(fp+tp)  https://en.wikipedia.org/wiki/Sensitivity_and_specificity\n",
        "TPR = [] # tp/p\n",
        "for predictederror in true_anomaly_predicted_errors:\n",
        "    detected_anomalies = ar_model.errors[ar_model.error>predictederror]    \n",
        "    len(ar_model.errors[ar_model.error>predictederror])-len(true_anomaly_predicted_errors[true_anomaly_predicted_errors>=predictederror])\n"
      ],
      "execution_count": 0,
      "outputs": []
    },
    {
      "cell_type": "code",
      "metadata": {
        "id": "l72ZcU2GxsVp",
        "colab_type": "code",
        "colab": {}
      },
      "source": [
        "import matplotlib.pyplot as plt\n",
        "import numpy as np\n",
        "\n",
        "x = # false_positive_rate\n",
        "y = # true_positive_rate \n",
        "\n",
        "# This is the ROC curve\n",
        "plt.plot(x,y)\n",
        "plt.show() \n",
        "\n",
        "# This is the AUC\n",
        "auc = np.trapz(y,x)"
      ],
      "execution_count": 0,
      "outputs": []
    },
    {
      "cell_type": "code",
      "metadata": {
        "id": "9eYS62sZwa13",
        "colab_type": "code",
        "colab": {}
      },
      "source": [
        "self.train, self.test = self.dataframe.values[1:self.train_size], self.dataframe.values[self.train_size:]\n"
      ],
      "execution_count": 0,
      "outputs": []
    },
    {
      "cell_type": "code",
      "metadata": {
        "id": "i4bmzxOItq2l",
        "colab_type": "code",
        "outputId": "442865c6-2712-4a82-fdf6-7f13e268dc69",
        "colab": {
          "base_uri": "https://localhost:8080/",
          "height": 282
        }
      },
      "source": [
        "ar_model.errors\n",
        "\n",
        "import seaborn as sns\n",
        "sns.distplot(ar_model.errors)"
      ],
      "execution_count": 0,
      "outputs": [
        {
          "output_type": "execute_result",
          "data": {
            "text/plain": [
              "<matplotlib.axes._subplots.AxesSubplot at 0x7f41f39a35c0>"
            ]
          },
          "metadata": {
            "tags": []
          },
          "execution_count": 17
        },
        {
          "output_type": "display_data",
          "data": {
            "image/png": "[encoded data removed]",
            "text/plain": [
              "<Figure size 432x288 with 1 Axes>"
            ]
          },
          "metadata": {
            "tags": []
          }
        }
      ]
    },
    {
      "cell_type": "code",
      "metadata": {
        "id": "zwABKvoziLVA",
        "colab_type": "code",
        "colab": {}
      },
      "source": [
        "df = read_csv('drive/My Drive/MT/Experiments/Univariate/YahooServiceNetworkTraffic/A1Benchmark/real_4.csv', header=0, index_col=0,parse_dates=True, squeeze=True)\n",
        "series = pd.DataFrame(df.iloc[:,0].values)  \n",
        "# split dataset\n",
        "X = series.values\n",
        "train_rate =0.66\n",
        "train, test = X[1:int(len(X) * train_rate)], X[int(len(X) * train_rate):]\n",
        "# train autoregression\n",
        "model = AR(train)\n",
        "model_fit = model.fit()\n",
        "window = model_fit.k_ar\n",
        "coef = model_fit.params\n",
        "# walk forward over time steps in test\n",
        "history = train[len(train)-window:]\n",
        "history = [history[i] for i in range(len(history))]\n",
        "predictions = list()\n",
        "for t in range(len(test)):\n",
        "    length = len(history)\n",
        "    lag = [history[i] for i in range(length-window,length)]\n",
        "    yhat = coef[0]\n",
        "    for d in range(window):\n",
        "        yhat += coef[d+1] * lag[window-d-1]\n",
        "    obs = test[t]\n",
        "    predictions.append(yhat)\n",
        "    history.append(obs)\n",
        "    # print('predicted=%f, expected=%f' % (yhat, obs))\n",
        "rmse = sqrt(mean_squared_error(test, predictions))\n",
        "print('Test RMSE: %.3f' % rmse)\n",
        "# plot\n",
        "pyplot.figure(figsize=(50,5))\n",
        "pyplot.plot(test)\n",
        "pyplot.plot(predictions, color='red')\n",
        "pyplot.show()"
      ],
      "execution_count": 0,
      "outputs": []
    },
    {
      "cell_type": "code",
      "metadata": {
        "id": "rukgZ_0qvV8j",
        "colab_type": "code",
        "outputId": "0b131851-22fd-4691-a0ac-b9cea867be30",
        "colab": {
          "base_uri": "https://localhost:8080/",
          "height": 34
        }
      },
      "source": [
        "np.percentile(ar_model.errors,98.5)\n"
      ],
      "execution_count": 0,
      "outputs": [
        {
          "output_type": "execute_result",
          "data": {
            "text/plain": [
              "1944.2956721730625"
            ]
          },
          "metadata": {
            "tags": []
          },
          "execution_count": 23
        }
      ]
    },
    {
      "cell_type": "code",
      "metadata": {
        "id": "Wrk2VKRdv9xu",
        "colab_type": "code",
        "outputId": "2b597d22-c7c2-4245-8cc8-f914540c40fd",
        "colab": {
          "base_uri": "https://localhost:8080/",
          "height": 34
        }
      },
      "source": [
        "anomaly_indices = 0\n",
        "df[df['is_anomaly']==1].index"
      ],
      "execution_count": 0,
      "outputs": [
        {
          "output_type": "execute_result",
          "data": {
            "text/plain": [
              "Int64Index([1387, 1399, 1419, 1420, 1421], dtype='int64', name='timestamp')"
            ]
          },
          "metadata": {
            "tags": []
          },
          "execution_count": 26
        }
      ]
    },
    {
      "cell_type": "code",
      "metadata": {
        "id": "AoJn1StCvhZa",
        "colab_type": "code",
        "outputId": "58a75648-4600-4835-f419-8cb01184aa0a",
        "colab": {
          "base_uri": "https://localhost:8080/",
          "height": 34
        }
      },
      "source": [
        "np.percentile(A,95)"
      ],
      "execution_count": 0,
      "outputs": [
        {
          "output_type": "execute_result",
          "data": {
            "text/plain": [
              "7.4149999999999965"
            ]
          },
          "metadata": {
            "tags": []
          },
          "execution_count": 20
        }
      ]
    },
    {
      "cell_type": "markdown",
      "metadata": {
        "id": "aAx8LY12gFFr",
        "colab_type": "text"
      },
      "source": [
        "### Fit model"
      ]
    },
    {
      "cell_type": "code",
      "metadata": {
        "id": "38ZsCLMLfsSA",
        "colab_type": "code",
        "colab": {}
      },
      "source": [
        "from statsmodels.tsa.ar_model import AR\n",
        "from sklearn.metrics import mean_squared_error\n",
        "from math import sqrt\n",
        "# load dataset\n",
        "series = pd.DataFrame(df.iloc[:,0].values)\n",
        "# split dataset\n",
        "X = series.values\n",
        "trainsize = int(len(X) * 0.8)\n",
        "train, test = X[1:trainsize], X[trainsize:]\n",
        "# train autoregression\n",
        "model = AR(train)\n",
        "model_fit = model.fit()\n",
        "print('Train size:',len(train), ' - Test size:',len(test),' - Full size: ', len(X))\n",
        "print('Lag: %s' % model_fit.k_ar)\n",
        "print('Coefficients: %s' % model_fit.params)"
      ],
      "execution_count": 0,
      "outputs": []
    },
    {
      "cell_type": "markdown",
      "metadata": {
        "id": "e-a24VsJgLjp",
        "colab_type": "text"
      },
      "source": [
        "### Predict with the model"
      ]
    },
    {
      "cell_type": "code",
      "metadata": {
        "id": "vqGRt6_KgNf1",
        "colab_type": "code",
        "colab": {}
      },
      "source": [
        "import numpy as np \n",
        "predictions = model_fit.predict(start=len(train), end=len(train)+len(test)-1, dynamic=False)\n",
        "# for i in range(len(predictions)):\n",
        "#     print('predicted=%f, expected=%f' % (predictions[i], test[i]))\n",
        "rmse = sqrt(mean_squared_error(test, predictions))\n",
        "errors = np.absolute(test.reshape(-1)-predictions)\n",
        "print('Test RMSE: %.3f' % rmse)\n",
        "# plot results\n",
        "pyplot.figure(figsize=(50,5))\n",
        "pyplot.plot(test)\n",
        "pyplot.plot(predictions, color='red')\n",
        "pyplot.plot(errors, color = 'yellow')\n",
        "pyplot.show()"
      ],
      "execution_count": 0,
      "outputs": []
    },
    {
      "cell_type": "code",
      "metadata": {
        "id": "xRsG9bMtj5rm",
        "colab_type": "code",
        "colab": {}
      },
      "source": [
        "ar_model = AR_Compact('drive/My Drive/MT/Experiments/Univariate/YahooServiceNetworkTraffic/A1Benchmark/real_4.csv',int(len(X) * 0.66))\n",
        "ar_model.fit()\n",
        "ar_model.predict()\n",
        "ar_model.plot()"
      ],
      "execution_count": 0,
      "outputs": []
    },
    {
      "cell_type": "markdown",
      "metadata": {
        "id": "b8YbJ0yF6uIN",
        "colab_type": "text"
      },
      "source": [
        "### Fit model with detrended data"
      ]
    },
    {
      "cell_type": "code",
      "metadata": {
        "id": "_EOx1W-O60nI",
        "colab_type": "code",
        "colab": {}
      },
      "source": [
        "\n",
        "from statsmodels.tsa.ar_model import AR\n",
        "from sklearn.metrics import mean_squared_error\n",
        "from math import sqrt\n",
        "# load dataset\n",
        "# split dataset\n",
        "X = df.iloc[:,0].diff().values\n",
        "X[0] = 0\n",
        "trainsize = int(len(X) * 0.8)\n",
        "train, test = X[1:trainsize], X[trainsize:]\n",
        "# train autoregression\n",
        "model = AR(train)\n",
        "model_fit = model.fit()\n",
        "print('Train size:',len(train), ' - Test size:',len(test),' - Full size: ', len(X))\n",
        "print('Lag: %s' % model_fit.k_ar)\n",
        "print('Coefficients: %s' % model_fit.params)"
      ],
      "execution_count": 0,
      "outputs": []
    },
    {
      "cell_type": "code",
      "metadata": {
        "id": "jtqZF6F37IVf",
        "colab_type": "code",
        "colab": {}
      },
      "source": [
        "import numpy as np \n",
        "predictions = model_fit.predict(start=len(train), end=len(train)+len(test)-1, dynamic=False)\n",
        "# for i in range(len(predictions)):\n",
        "#     print('predicted=%f, expected=%f' % (predictions[i], test[i]))\n",
        "rmse = sqrt(mean_squared_error(test, predictions))\n",
        "errors = np.absolute(test.reshape(-1)-predictions)\n",
        "print('Test RMSE: %.3f' % rmse)\n",
        "# plot results\n",
        "pyplot.figure(figsize=(50,5))\n",
        "pyplot.plot(test)\n",
        "pyplot.plot(predictions, color='red')\n",
        "pyplot.plot(errors, color = 'yellow')\n",
        "pyplot.show()"
      ],
      "execution_count": 0,
      "outputs": []
    },
    {
      "cell_type": "code",
      "metadata": {
        "id": "fUDaVB6w8cg0",
        "colab_type": "code",
        "colab": {}
      },
      "source": [
        "predicted_org = np.r_[df.iloc[trainsize-2,0], predictions].cumsum()\n",
        "test_org = df.iloc[trainsize:,0].values\n",
        "rmse = sqrt(mean_squared_error(test_org, predicted_org[1:]))\n",
        "errors = np.absolute(test_org.reshape(-1)-predicted_org[1:])\n",
        "print('Test RMSE: %.3f' % rmse)\n",
        "# plot results\n",
        "pyplot.figure(figsize=(50,5))\n",
        "pyplot.plot(test_org)\n",
        "pyplot.plot(predicted_org, color='red')\n",
        "pyplot.plot(errors, color = 'yellow')\n",
        "pyplot.show()"
      ],
      "execution_count": 0,
      "outputs": []
    },
    {
      "cell_type": "markdown",
      "metadata": {
        "id": "9Ry9s3sURdoz",
        "colab_type": "text"
      },
      "source": [
        "## MA Model\n"
      ]
    },
    {
      "cell_type": "code",
      "metadata": {
        "id": "rgDcfzW6cT3B",
        "colab_type": "code",
        "outputId": "5f6361a3-31bd-4bae-9402-0e160227808b",
        "colab": {
          "base_uri": "https://localhost:8080/",
          "height": 696
        }
      },
      "source": [
        "from statsmodels.tsa.ar_model import AR\n",
        "from sklearn.metrics import mean_squared_error\n",
        "from math import sqrt\n",
        "from pandas import read_csv\n",
        "import pandas as pd\n",
        "from pandas import DataFrame\n",
        "from pandas import concat\n",
        "import numpy as np \n",
        "from matplotlib import pyplot\n",
        "\n",
        "class MA:\n",
        "    i = 12345\n",
        "    def __init__(self, path, train_rate):\n",
        "\n",
        "        df = read_csv(path, header=0, index_col=0, parse_dates=True,squeeze=True)\n",
        "        series = pd.DataFrame(df.iloc[:,0].values)  \n",
        "        self.values = DataFrame(series.values)\n",
        "        self.dataframe = concat([self.values.shift(1), self.values], axis=1)\n",
        "        self.dataframe.columns = ['t', 't+1']\n",
        "        X = self.dataframe.values\n",
        "\n",
        "        self.train_size = int(len(X) * train_rate)    \n",
        "\n",
        "        train, test = X[1:self.train_size], X[self.train_size:]\n",
        "        self.train_X, self.train_y = train[:,0], train[:,1]\n",
        "        self.test_X, self.test_y = test[:,0], test[:,1]        \n",
        "        # persistence model on training set\n",
        "        self.train_pred = [x for x in self.train_X]\n",
        "        # calculate residuals\n",
        "        self.train_resid = [self.train_y[i]-self.train_pred[i] for i in range(len(self.train_pred))]\n",
        "\n",
        "    def fit(self, verbose=False):\n",
        "        self.model = AR(self.train_resid)\n",
        "        self.model_fit = self.model.fit()\n",
        "        self.window = self.model_fit.k_ar\n",
        "        self.coef = self.model_fit.params        \n",
        "        if verbose:\n",
        "            print(self.coef)\n",
        "\n",
        "    def predict(self):\n",
        "        # walk forward over time steps in test\n",
        "        self.history = self.train_resid[len(self.train_resid)-self.window:]\n",
        "        self.history = [self.history[i] for i in range(len(self.history))]\n",
        "        self.predictions = list()\n",
        "        for t in range(len(self.test_y)):\n",
        "            # persistence\n",
        "            yhat = self.test_X[t]\n",
        "            error = self.test_y[t] - yhat\n",
        "            # predict error\n",
        "            length = len(self.history)\n",
        "            lag = [self.history[i] for i in range(length-self.window,length)]\n",
        "            pred_error = self.coef[0]\n",
        "            for d in range(self.window):\n",
        "                pred_error += self.coef[d+1] * lag[self.window-d-1]\n",
        "            # correct the prediction\n",
        "            yhat = yhat + pred_error\n",
        "            self.predictions.append(yhat)\n",
        "            self.history.append(error)\n",
        "            # print('predicted=%f, expected=%f' % (yhat, test_y[t]))\n",
        "        rmse = sqrt(mean_squared_error(self.test_y, self.predictions))\n",
        "        self.errors = np.absolute(self.test_y - np.array(self.predictions))\n",
        "        print('Prediction Test RMSE: %.3f' % rmse)\n",
        "\n",
        "    def plot(self):\n",
        "        # plot predicted error\n",
        "        pyplot.figure(figsize=(50,4))\n",
        "        pyplot.plot(self.test_y)\n",
        "        pyplot.plot(self.predictions, color='red')\n",
        "        pyplot.show()       \n",
        "\n",
        "    def get_roc_auc(self, plot=True):\n",
        "        # get the predicted errors of the anomaly points\n",
        "        true_anomaly_predicted_errors = self.errors[df[df['is_anomaly']==1].index - self.train_size]\n",
        "        # sort them \n",
        "        true_anomaly_predicted_errors = np.sort(true_anomaly_predicted_errors,axis=0).reshape(-1)\n",
        "        # true_anomaly_predicted_errors_extended = np.r_[np.array([0]),true_anomaly_predicted_errors,np.array([1000000])]\n",
        "        # now iterate thru the predicted errors from small to big\n",
        "        # for each value look how much other points have equal or bigger error\n",
        "        FPR = [] # fp/n  https://en.wikipedia.org/wiki/Sensitivity_and_specificity\n",
        "        TPR = [] # tp/p\n",
        "        p = len(true_anomaly_predicted_errors)\n",
        "        Thresholds = []\n",
        "        for predictederror in true_anomaly_predicted_errors_extended:\n",
        "            threshold = predictederror\n",
        "            tp = len(true_anomaly_predicted_errors[true_anomaly_predicted_errors>= threshold])\n",
        "            fp = len(self.errors[self.errors>=threshold])-len(true_anomaly_predicted_errors[true_anomaly_predicted_errors>=threshold])\n",
        "            \n",
        "            fpr =fp/len(self.errors)\n",
        "            FPR.append(fpr)\n",
        "            TPR.append(tp/p)\n",
        "            print(\"Threshold: {0:25}  - FP: {1:4} - TP: {2:4} - FPR: {3:21} - TPR: {4:4}\".format(threshold,fp, tp, fpr, tp/p))\n",
        "\n",
        "            # print('Threshold: ' , threshold,'\\t\\t\\t\\t - FP:', fp,' - TP:',tp, ' - FPR :' ,fpr,' - TPR:', tp/p)\n",
        "\n",
        "        import matplotlib.pyplot as plt\n",
        "        if plot:\n",
        "            plt.figure()\n",
        "            plt.axis([0, 1, 0, 1])\n",
        "            plt.plot(FPR,TPR)\n",
        "            plt.show() \n",
        "\n",
        "        # This is the AUC\n",
        "        from sklearn.metrics import auc\n",
        "        print('AUC: ' ,auc(FPR,TPR)        )\n",
        "\n",
        "ma_model = MA('drive/My Drive/MT/Experiments/Univariate/YahooServiceNetworkTraffic/A1Benchmark/real_4.csv',0.66)\n",
        "ma_model.fit()\n",
        "ma_model.predict()\n",
        "ma_model.plot()\n",
        "ma_model.get_roc_auc()"
      ],
      "execution_count": 0,
      "outputs": [
        {
          "output_type": "stream",
          "text": [
            "Prediction Test RMSE: 729.709\n"
          ],
          "name": "stdout"
        },
        {
          "output_type": "display_data",
          "data": {
            "image/png": "[encoded data removed]",
            "text/plain": [
              "<Figure size 3600x288 with 1 Axes>"
            ]
          },
          "metadata": {
            "tags": []
          }
        },
        {
          "output_type": "stream",
          "text": [
            "Threshold:                       0.0  - FP:  479 - TP:    5 - FPR:    0.9896694214876033 - TPR:  1.0\n",
            "Threshold:        301.84218861392344  - FP:   29 - TP:    5 - FPR:   0.05991735537190083 - TPR:  1.0\n",
            "Threshold:         644.5334653132012  - FP:   13 - TP:    5 - FPR:  0.026859504132231406 - TPR:  1.0\n",
            "Threshold:        2496.5340125221496  - FP:    3 - TP:    3 - FPR:  0.006198347107438017 - TPR:  0.6\n",
            "Threshold:         4509.455404637594  - FP:    2 - TP:    1 - FPR:  0.004132231404958678 - TPR:  0.2\n",
            "Threshold:        11441.589124627042  - FP:    0 - TP:    0 - FPR:                   0.0 - TPR:  0.0\n",
            "Threshold:                 1000000.0  - FP:    0 - TP:    0 - FPR:                   0.0 - TPR:  0.0\n"
          ],
          "name": "stdout"
        },
        {
          "output_type": "display_data",
          "data": {
            "image/png": "[encoded data removed]",
            "text/plain": [
              "<Figure size 432x288 with 1 Axes>"
            ]
          },
          "metadata": {
            "tags": []
          }
        },
        {
          "output_type": "stream",
          "text": [
            "AUC:  0.9805785123966941\n"
          ],
          "name": "stdout"
        }
      ]
    },
    {
      "cell_type": "code",
      "metadata": {
        "id": "Mt2eynxyYb-d",
        "colab_type": "code",
        "outputId": "469422c6-34b4-40ea-ddce-4e8430cd4a8c",
        "colab": {
          "base_uri": "https://localhost:8080/",
          "height": 411
        }
      },
      "source": [
        "# get the predicted errors of the anomaly points\n",
        "true_anomaly_predicted_errors = ma_model.errors[df[df['is_anomaly']==1].index - ar_model.train_size]\n",
        "# sort them \n",
        "true_anomaly_predicted_errors = np.sort(true_anomaly_predicted_errors,axis=0).reshape(-1)\n",
        "# true_anomaly_predicted_errors_extended = np.r_[np.array([0]),true_anomaly_predicted_errors,np.array([1000000])]\n",
        "# now iterate thru the predicted errors from small to big\n",
        "# for each value look how much other points have equal or bigger error\n",
        "FPR = [] # fp/n  https://en.wikipedia.org/wiki/Sensitivity_and_specificity\n",
        "TPR = [] # tp/p\n",
        "p = len(true_anomaly_predicted_errors)\n",
        "Thresholds = []\n",
        "for predictederror in true_anomaly_predicted_errors_extended:\n",
        "    threshold = predictederror\n",
        "    # detected_anomalies = ar_model.errors[ar_model.error>predictederror]    \n",
        "    tp = len(true_anomaly_predicted_errors[true_anomaly_predicted_errors>= threshold])\n",
        "    fp = len(ar_model.errors[ar_model.errors>=threshold])-len(true_anomaly_predicted_errors[true_anomaly_predicted_errors>=threshold])\n",
        "    \n",
        "    fpr =fp/len(ar_model.errors)\n",
        "    FPR.append(fpr)\n",
        "    TPR.append(tp/p)\n",
        "    print(\"Threshold: {0:25}  - FP: {1:4} - TP: {2:4} - FPR: {3:21} - TPR: {4:4}\".format(threshold,fp, tp, fpr, tp/p))\n",
        "\n",
        "import matplotlib.pyplot as plt\n",
        "\n",
        "plt.figure()\n",
        "plt.axis([0, 1, 0, 1])\n",
        "plt.plot(FPR,TPR)\n",
        "plt.show() \n",
        "\n",
        "# This is the AUC\n",
        "from sklearn.metrics import auc\n",
        "auc(FPR,TPR)"
      ],
      "execution_count": 0,
      "outputs": [
        {
          "output_type": "stream",
          "text": [
            "Threshold:                       0.0  - FP:  479 - TP:    5 - FPR:    0.9896694214876033 - TPR:  1.0\n",
            "Threshold:        301.84218861392344  - FP:   16 - TP:    5 - FPR:   0.03305785123966942 - TPR:  1.0\n",
            "Threshold:         644.5334653132012  - FP:    9 - TP:    5 - FPR:   0.01859504132231405 - TPR:  1.0\n",
            "Threshold:        2496.5340125221496  - FP:    4 - TP:    3 - FPR:  0.008264462809917356 - TPR:  0.6\n",
            "Threshold:         4509.455404637594  - FP:    3 - TP:    1 - FPR:  0.006198347107438017 - TPR:  0.2\n",
            "Threshold:        11441.589124627042  - FP:    1 - TP:    0 - FPR:  0.002066115702479339 - TPR:  0.0\n",
            "Threshold:                 1000000.0  - FP:    0 - TP:    0 - FPR:                   0.0 - TPR:  0.0\n"
          ],
          "name": "stdout"
        },
        {
          "output_type": "display_data",
          "data": {
            "image/png": "[encoded data removed]",
            "text/plain": [
              "<Figure size 432x288 with 1 Axes>"
            ]
          },
          "metadata": {
            "tags": []
          }
        },
        {
          "output_type": "execute_result",
          "data": {
            "text/plain": [
              "0.9805785123966941"
            ]
          },
          "metadata": {
            "tags": []
          },
          "execution_count": 117
        }
      ]
    },
    {
      "cell_type": "code",
      "metadata": {
        "id": "H6zkM2yPZxay",
        "colab_type": "code",
        "outputId": "50d41cff-b4be-408d-a3f3-c4f2bc999bec",
        "colab": {
          "base_uri": "https://localhost:8080/",
          "height": 302
        }
      },
      "source": [
        "# correct forecasts with a model of forecast residual errors\n",
        "from pandas import read_csv\n",
        "from pandas import DataFrame\n",
        "from pandas import concat\n",
        "from statsmodels.tsa.ar_model import AR\n",
        "from matplotlib import pyplot\n",
        "from sklearn.metrics import mean_squared_error\n",
        "from math import sqrt\n",
        "# load data\n",
        "# series = read_csv('drive/My Drive/MT/Experiments/Univariate/daily-total-female-births.csv', header=0, index_col=0, parse_dates=True,squeeze=True)\n",
        "df = read_csv('drive/My Drive/MT/Experiments/Univariate/YahooServiceNetworkTraffic/A1Benchmark/real_4.csv', header=0, index_col=0, parse_dates=True,squeeze=True)\n",
        "series = pd.DataFrame(df.iloc[:,0].values)\n",
        "\n",
        "# create lagged dataset\n",
        "values = DataFrame(series.values)\n",
        "dataframe = concat([values.shift(1), values], axis=1)\n",
        "dataframe.columns = ['t', 't+1']\n",
        "# split into train and test sets\n",
        "X = dataframe.values\n",
        "train_size = int(len(X) * 0.66)\n",
        "train, test = X[1:train_size], X[train_size:]\n",
        "train_X, train_y = train[:,0], train[:,1]\n",
        "test_X, test_y = test[:,0], test[:,1]\n",
        "# persistence model on training set\n",
        "train_pred = [x for x in train_X]\n",
        "# calculate residuals\n",
        "train_resid = [train_y[i]-train_pred[i] for i in range(len(train_pred))]\n",
        "# model the training set residuals\n",
        "model = AR(train_resid)\n",
        "model_fit = model.fit()\n",
        "window = model_fit.k_ar\n",
        "coef = model_fit.params\n",
        "# walk forward over time steps in test\n",
        "history = train_resid[len(train_resid)-window:]\n",
        "history = [history[i] for i in range(len(history))]\n",
        "predictions = list()\n",
        "for t in range(len(test_y)):\n",
        "    # persistence\n",
        "    yhat = test_X[t]\n",
        "    error = test_y[t] - yhat\n",
        "    # predict error\n",
        "    length = len(history)\n",
        "    lag = [history[i] for i in range(length-window,length)]\n",
        "    pred_error = coef[0]\n",
        "    for d in range(window):\n",
        "        pred_error += coef[d+1] * lag[window-d-1]\n",
        "    # correct the prediction\n",
        "    yhat = yhat + pred_error\n",
        "    predictions.append(yhat)\n",
        "    history.append(error)\n",
        "    # print('predicted=%f, expected=%f' % (yhat, test_y[t]))\n",
        "# error\n",
        "rmse = sqrt(mean_squared_error(test_y, predictions))\n",
        "print('Test RMSE: %.3f' % rmse)\n",
        "# plot predicted error\n",
        "pyplot.figure(figsize=(50,4))\n",
        "pyplot.plot(test_y)\n",
        "pyplot.plot(predictions, color='red')\n",
        "pyplot.show()"
      ],
      "execution_count": 0,
      "outputs": [
        {
          "output_type": "stream",
          "text": [
            "Test RMSE: 729.709\n"
          ],
          "name": "stdout"
        },
        {
          "output_type": "display_data",
          "data": {
            "image/png": "[encoded data removed]",
            "text/plain": [
              "<Figure size 3600x288 with 1 Axes>"
            ]
          },
          "metadata": {
            "tags": []
          }
        }
      ]
    }
  ]
}